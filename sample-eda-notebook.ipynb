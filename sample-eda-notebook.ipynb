{
 "cells": [
  {
   "cell_type": "code",
   "execution_count": 1,
   "id": "6fc93df7",
   "metadata": {
    "_cell_guid": "b1076dfc-b9ad-4769-8c92-a6c4dae69d19",
    "_uuid": "8f2839f25d086af736a60e9eeb907d3b93b6e0e5",
    "execution": {
     "iopub.execute_input": "2022-04-17T08:14:55.766968Z",
     "iopub.status.busy": "2022-04-17T08:14:55.765484Z",
     "iopub.status.idle": "2022-04-17T08:14:55.781657Z",
     "shell.execute_reply": "2022-04-17T08:14:55.782191Z",
     "shell.execute_reply.started": "2022-04-17T08:09:08.577497Z"
    },
    "papermill": {
     "duration": 0.062192,
     "end_time": "2022-04-17T08:14:55.782485",
     "exception": false,
     "start_time": "2022-04-17T08:14:55.720293",
     "status": "completed"
    },
    "tags": []
   },
   "outputs": [
    {
     "name": "stdout",
     "output_type": "stream",
     "text": [
      "/kaggle/input/global-super-store-dataset/Global_Superstore2.xlsx\n",
      "/kaggle/input/global-super-store-dataset/Global_Superstore2.csv\n"
     ]
    }
   ],
   "source": [
    "# This Python 3 environment comes with many helpful analytics libraries installed\n",
    "# It is defined by the kaggle/python Docker image: https://github.com/kaggle/docker-python\n",
    "# For example, here's several helpful packages to load\n",
    "\n",
    "import numpy as np # linear algebra\n",
    "import pandas as pd # data processing, CSV file I/O (e.g. pd.read_csv)\n",
    "\n",
    "# Input data files are available in the read-only \"../input/\" directory\n",
    "# For example, running this (by clicking run or pressing Shift+Enter) will list all files under the input directory\n",
    "pd.set_option('display.max_rows', 5000)\n",
    "pd.set_option('display.max_columns', 7000)\n",
    "pd.set_option('max_colwidth', None)\n",
    "\n",
    "import os\n",
    "for dirname, _, filenames in os.walk('/kaggle/input'):\n",
    "    for filename in filenames:\n",
    "        print(os.path.join(dirname, filename))\n",
    "\n",
    "# You can write up to 20GB to the current directory (/kaggle/working/) that gets preserved as output when you create a version using \"Save & Run All\" \n",
    "# You can also write temporary files to /kaggle/temp/, but they won't be saved outside of the current session"
   ]
  },
  {
   "cell_type": "code",
   "execution_count": 2,
   "id": "80e05f71",
   "metadata": {
    "execution": {
     "iopub.execute_input": "2022-04-17T08:14:55.875585Z",
     "iopub.status.busy": "2022-04-17T08:14:55.874953Z",
     "iopub.status.idle": "2022-04-17T08:14:56.273336Z",
     "shell.execute_reply": "2022-04-17T08:14:56.273805Z",
     "shell.execute_reply.started": "2022-04-17T08:09:19.374364Z"
    },
    "papermill": {
     "duration": 0.444412,
     "end_time": "2022-04-17T08:14:56.273987",
     "exception": false,
     "start_time": "2022-04-17T08:14:55.829575",
     "status": "completed"
    },
    "tags": []
   },
   "outputs": [
    {
     "name": "stdout",
     "output_type": "stream",
     "text": [
      "CPU times: user 268 ms, sys: 33.9 ms, total: 302 ms\n",
      "Wall time: 391 ms\n"
     ]
    }
   ],
   "source": [
    "%%time\n",
    "df = pd.read_csv('/kaggle/input/global-super-store-dataset/Global_Superstore2.csv',encoding='latin-1')"
   ]
  },
  {
   "cell_type": "code",
   "execution_count": 3,
   "id": "fde0619c",
   "metadata": {
    "execution": {
     "iopub.execute_input": "2022-04-17T08:14:56.361560Z",
     "iopub.status.busy": "2022-04-17T08:14:56.360948Z",
     "iopub.status.idle": "2022-04-17T08:14:56.389302Z",
     "shell.execute_reply": "2022-04-17T08:14:56.389731Z",
     "shell.execute_reply.started": "2022-04-17T08:09:21.582181Z"
    },
    "papermill": {
     "duration": 0.073222,
     "end_time": "2022-04-17T08:14:56.389886",
     "exception": false,
     "start_time": "2022-04-17T08:14:56.316664",
     "status": "completed"
    },
    "tags": []
   },
   "outputs": [
    {
     "data": {
      "text/html": [
       "<div>\n",
       "<style scoped>\n",
       "    .dataframe tbody tr th:only-of-type {\n",
       "        vertical-align: middle;\n",
       "    }\n",
       "\n",
       "    .dataframe tbody tr th {\n",
       "        vertical-align: top;\n",
       "    }\n",
       "\n",
       "    .dataframe thead th {\n",
       "        text-align: right;\n",
       "    }\n",
       "</style>\n",
       "<table border=\"1\" class=\"dataframe\">\n",
       "  <thead>\n",
       "    <tr style=\"text-align: right;\">\n",
       "      <th></th>\n",
       "      <th>Row ID</th>\n",
       "      <th>Order ID</th>\n",
       "      <th>Order Date</th>\n",
       "      <th>Ship Date</th>\n",
       "      <th>Ship Mode</th>\n",
       "      <th>Customer ID</th>\n",
       "      <th>Customer Name</th>\n",
       "      <th>Segment</th>\n",
       "      <th>City</th>\n",
       "      <th>State</th>\n",
       "      <th>Country</th>\n",
       "      <th>Postal Code</th>\n",
       "      <th>Market</th>\n",
       "      <th>Region</th>\n",
       "      <th>Product ID</th>\n",
       "      <th>Category</th>\n",
       "      <th>Sub-Category</th>\n",
       "      <th>Product Name</th>\n",
       "      <th>Sales</th>\n",
       "      <th>Quantity</th>\n",
       "      <th>Discount</th>\n",
       "      <th>Profit</th>\n",
       "      <th>Shipping Cost</th>\n",
       "      <th>Order Priority</th>\n",
       "    </tr>\n",
       "  </thead>\n",
       "  <tbody>\n",
       "    <tr>\n",
       "      <th>0</th>\n",
       "      <td>32298</td>\n",
       "      <td>CA-2012-124891</td>\n",
       "      <td>31-07-2012</td>\n",
       "      <td>31-07-2012</td>\n",
       "      <td>Same Day</td>\n",
       "      <td>RH-19495</td>\n",
       "      <td>Rick Hansen</td>\n",
       "      <td>Consumer</td>\n",
       "      <td>New York City</td>\n",
       "      <td>New York</td>\n",
       "      <td>United States</td>\n",
       "      <td>10024.0</td>\n",
       "      <td>US</td>\n",
       "      <td>East</td>\n",
       "      <td>TEC-AC-10003033</td>\n",
       "      <td>Technology</td>\n",
       "      <td>Accessories</td>\n",
       "      <td>Plantronics CS510 - Over-the-Head monaural Wireless Headset System</td>\n",
       "      <td>2309.650</td>\n",
       "      <td>7</td>\n",
       "      <td>0.0</td>\n",
       "      <td>762.1845</td>\n",
       "      <td>933.57</td>\n",
       "      <td>Critical</td>\n",
       "    </tr>\n",
       "    <tr>\n",
       "      <th>1</th>\n",
       "      <td>26341</td>\n",
       "      <td>IN-2013-77878</td>\n",
       "      <td>05-02-2013</td>\n",
       "      <td>07-02-2013</td>\n",
       "      <td>Second Class</td>\n",
       "      <td>JR-16210</td>\n",
       "      <td>Justin Ritter</td>\n",
       "      <td>Corporate</td>\n",
       "      <td>Wollongong</td>\n",
       "      <td>New South Wales</td>\n",
       "      <td>Australia</td>\n",
       "      <td>NaN</td>\n",
       "      <td>APAC</td>\n",
       "      <td>Oceania</td>\n",
       "      <td>FUR-CH-10003950</td>\n",
       "      <td>Furniture</td>\n",
       "      <td>Chairs</td>\n",
       "      <td>Novimex Executive Leather Armchair, Black</td>\n",
       "      <td>3709.395</td>\n",
       "      <td>9</td>\n",
       "      <td>0.1</td>\n",
       "      <td>-288.7650</td>\n",
       "      <td>923.63</td>\n",
       "      <td>Critical</td>\n",
       "    </tr>\n",
       "    <tr>\n",
       "      <th>2</th>\n",
       "      <td>25330</td>\n",
       "      <td>IN-2013-71249</td>\n",
       "      <td>17-10-2013</td>\n",
       "      <td>18-10-2013</td>\n",
       "      <td>First Class</td>\n",
       "      <td>CR-12730</td>\n",
       "      <td>Craig Reiter</td>\n",
       "      <td>Consumer</td>\n",
       "      <td>Brisbane</td>\n",
       "      <td>Queensland</td>\n",
       "      <td>Australia</td>\n",
       "      <td>NaN</td>\n",
       "      <td>APAC</td>\n",
       "      <td>Oceania</td>\n",
       "      <td>TEC-PH-10004664</td>\n",
       "      <td>Technology</td>\n",
       "      <td>Phones</td>\n",
       "      <td>Nokia Smart Phone, with Caller ID</td>\n",
       "      <td>5175.171</td>\n",
       "      <td>9</td>\n",
       "      <td>0.1</td>\n",
       "      <td>919.9710</td>\n",
       "      <td>915.49</td>\n",
       "      <td>Medium</td>\n",
       "    </tr>\n",
       "    <tr>\n",
       "      <th>3</th>\n",
       "      <td>13524</td>\n",
       "      <td>ES-2013-1579342</td>\n",
       "      <td>28-01-2013</td>\n",
       "      <td>30-01-2013</td>\n",
       "      <td>First Class</td>\n",
       "      <td>KM-16375</td>\n",
       "      <td>Katherine Murray</td>\n",
       "      <td>Home Office</td>\n",
       "      <td>Berlin</td>\n",
       "      <td>Berlin</td>\n",
       "      <td>Germany</td>\n",
       "      <td>NaN</td>\n",
       "      <td>EU</td>\n",
       "      <td>Central</td>\n",
       "      <td>TEC-PH-10004583</td>\n",
       "      <td>Technology</td>\n",
       "      <td>Phones</td>\n",
       "      <td>Motorola Smart Phone, Cordless</td>\n",
       "      <td>2892.510</td>\n",
       "      <td>5</td>\n",
       "      <td>0.1</td>\n",
       "      <td>-96.5400</td>\n",
       "      <td>910.16</td>\n",
       "      <td>Medium</td>\n",
       "    </tr>\n",
       "    <tr>\n",
       "      <th>4</th>\n",
       "      <td>47221</td>\n",
       "      <td>SG-2013-4320</td>\n",
       "      <td>05-11-2013</td>\n",
       "      <td>06-11-2013</td>\n",
       "      <td>Same Day</td>\n",
       "      <td>RH-9495</td>\n",
       "      <td>Rick Hansen</td>\n",
       "      <td>Consumer</td>\n",
       "      <td>Dakar</td>\n",
       "      <td>Dakar</td>\n",
       "      <td>Senegal</td>\n",
       "      <td>NaN</td>\n",
       "      <td>Africa</td>\n",
       "      <td>Africa</td>\n",
       "      <td>TEC-SHA-10000501</td>\n",
       "      <td>Technology</td>\n",
       "      <td>Copiers</td>\n",
       "      <td>Sharp Wireless Fax, High-Speed</td>\n",
       "      <td>2832.960</td>\n",
       "      <td>8</td>\n",
       "      <td>0.0</td>\n",
       "      <td>311.5200</td>\n",
       "      <td>903.04</td>\n",
       "      <td>Critical</td>\n",
       "    </tr>\n",
       "  </tbody>\n",
       "</table>\n",
       "</div>"
      ],
      "text/plain": [
       "   Row ID         Order ID  Order Date   Ship Date     Ship Mode Customer ID  \\\n",
       "0   32298   CA-2012-124891  31-07-2012  31-07-2012      Same Day    RH-19495   \n",
       "1   26341    IN-2013-77878  05-02-2013  07-02-2013  Second Class    JR-16210   \n",
       "2   25330    IN-2013-71249  17-10-2013  18-10-2013   First Class    CR-12730   \n",
       "3   13524  ES-2013-1579342  28-01-2013  30-01-2013   First Class    KM-16375   \n",
       "4   47221     SG-2013-4320  05-11-2013  06-11-2013      Same Day     RH-9495   \n",
       "\n",
       "      Customer Name      Segment           City            State  \\\n",
       "0       Rick Hansen     Consumer  New York City         New York   \n",
       "1     Justin Ritter    Corporate     Wollongong  New South Wales   \n",
       "2      Craig Reiter     Consumer       Brisbane       Queensland   \n",
       "3  Katherine Murray  Home Office         Berlin           Berlin   \n",
       "4       Rick Hansen     Consumer          Dakar            Dakar   \n",
       "\n",
       "         Country  Postal Code  Market   Region        Product ID    Category  \\\n",
       "0  United States      10024.0      US     East   TEC-AC-10003033  Technology   \n",
       "1      Australia          NaN    APAC  Oceania   FUR-CH-10003950   Furniture   \n",
       "2      Australia          NaN    APAC  Oceania   TEC-PH-10004664  Technology   \n",
       "3        Germany          NaN      EU  Central   TEC-PH-10004583  Technology   \n",
       "4        Senegal          NaN  Africa   Africa  TEC-SHA-10000501  Technology   \n",
       "\n",
       "  Sub-Category  \\\n",
       "0  Accessories   \n",
       "1       Chairs   \n",
       "2       Phones   \n",
       "3       Phones   \n",
       "4      Copiers   \n",
       "\n",
       "                                                         Product Name  \\\n",
       "0  Plantronics CS510 - Over-the-Head monaural Wireless Headset System   \n",
       "1                           Novimex Executive Leather Armchair, Black   \n",
       "2                                   Nokia Smart Phone, with Caller ID   \n",
       "3                                      Motorola Smart Phone, Cordless   \n",
       "4                                      Sharp Wireless Fax, High-Speed   \n",
       "\n",
       "      Sales  Quantity  Discount    Profit  Shipping Cost Order Priority  \n",
       "0  2309.650         7       0.0  762.1845         933.57       Critical  \n",
       "1  3709.395         9       0.1 -288.7650         923.63       Critical  \n",
       "2  5175.171         9       0.1  919.9710         915.49         Medium  \n",
       "3  2892.510         5       0.1  -96.5400         910.16         Medium  \n",
       "4  2832.960         8       0.0  311.5200         903.04       Critical  "
      ]
     },
     "execution_count": 3,
     "metadata": {},
     "output_type": "execute_result"
    }
   ],
   "source": [
    "df.head()"
   ]
  },
  {
   "cell_type": "code",
   "execution_count": 4,
   "id": "b6facbf8",
   "metadata": {
    "execution": {
     "iopub.execute_input": "2022-04-17T08:14:56.478807Z",
     "iopub.status.busy": "2022-04-17T08:14:56.477897Z",
     "iopub.status.idle": "2022-04-17T08:14:56.573671Z",
     "shell.execute_reply": "2022-04-17T08:14:56.574141Z",
     "shell.execute_reply.started": "2022-04-17T08:09:22.974962Z"
    },
    "papermill": {
     "duration": 0.14197,
     "end_time": "2022-04-17T08:14:56.574339",
     "exception": false,
     "start_time": "2022-04-17T08:14:56.432369",
     "status": "completed"
    },
    "tags": []
   },
   "outputs": [],
   "source": [
    "df['Order Date']=pd.to_datetime(df['Order Date'])\n",
    "df['Ship Date']=pd.to_datetime(df['Ship Date'])"
   ]
  },
  {
   "cell_type": "code",
   "execution_count": 5,
   "id": "84bd2af8",
   "metadata": {
    "execution": {
     "iopub.execute_input": "2022-04-17T08:14:56.662472Z",
     "iopub.status.busy": "2022-04-17T08:14:56.661647Z",
     "iopub.status.idle": "2022-04-17T08:14:56.667921Z",
     "shell.execute_reply": "2022-04-17T08:14:56.668361Z",
     "shell.execute_reply.started": "2022-04-17T08:09:24.840397Z"
    },
    "papermill": {
     "duration": 0.052178,
     "end_time": "2022-04-17T08:14:56.668530",
     "exception": false,
     "start_time": "2022-04-17T08:14:56.616352",
     "status": "completed"
    },
    "tags": []
   },
   "outputs": [],
   "source": [
    "import pandasql as ps"
   ]
  },
  {
   "cell_type": "code",
   "execution_count": 6,
   "id": "1bbd157d",
   "metadata": {
    "execution": {
     "iopub.execute_input": "2022-04-17T08:14:56.759685Z",
     "iopub.status.busy": "2022-04-17T08:14:56.758919Z",
     "iopub.status.idle": "2022-04-17T08:14:59.575438Z",
     "shell.execute_reply": "2022-04-17T08:14:59.575873Z",
     "shell.execute_reply.started": "2022-04-17T08:09:28.769302Z"
    },
    "papermill": {
     "duration": 2.865252,
     "end_time": "2022-04-17T08:14:59.576051",
     "exception": false,
     "start_time": "2022-04-17T08:14:56.710799",
     "status": "completed"
    },
    "tags": []
   },
   "outputs": [
    {
     "name": "stdout",
     "output_type": "stream",
     "text": [
      "         Ship Mode         Category\n",
      "0         Same Day       Technology\n",
      "1     Second Class        Furniture\n",
      "2      First Class       Technology\n",
      "3     Second Class       Technology\n",
      "4      First Class        Furniture\n",
      "5   Standard Class        Furniture\n",
      "6   Standard Class  Office Supplies\n",
      "7     Second Class  Office Supplies\n",
      "8         Same Day        Furniture\n",
      "9   Standard Class       Technology\n",
      "10     First Class  Office Supplies\n",
      "11        Same Day  Office Supplies\n"
     ]
    }
   ],
   "source": [
    "q1 = \"\"\"SELECT distinct \"Ship Mode\",\"Category\" FROM df \"\"\"\n",
    "\n",
    "print(ps.sqldf(q1, locals()))"
   ]
  },
  {
   "cell_type": "code",
   "execution_count": 7,
   "id": "60ad4097",
   "metadata": {
    "execution": {
     "iopub.execute_input": "2022-04-17T08:14:59.667805Z",
     "iopub.status.busy": "2022-04-17T08:14:59.664879Z",
     "iopub.status.idle": "2022-04-17T08:15:00.683591Z",
     "shell.execute_reply": "2022-04-17T08:15:00.682954Z",
     "shell.execute_reply.started": "2022-04-17T08:09:35.226476Z"
    },
    "papermill": {
     "duration": 1.064588,
     "end_time": "2022-04-17T08:15:00.683753",
     "exception": false,
     "start_time": "2022-04-17T08:14:59.619165",
     "status": "completed"
    },
    "tags": []
   },
   "outputs": [],
   "source": [
    "import numpy as np \n",
    "import pandas as pd # for working with dataframes\n",
    "import seaborn as sns # for data visualization \n",
    "\n",
    "from matplotlib import pyplot as plt # for plotting\n",
    "%matplotlib inline\n",
    "sns.set_style(\"whitegrid\")"
   ]
  },
  {
   "cell_type": "code",
   "execution_count": 8,
   "id": "e760a3d9",
   "metadata": {
    "execution": {
     "iopub.execute_input": "2022-04-17T08:15:00.779722Z",
     "iopub.status.busy": "2022-04-17T08:15:00.779101Z",
     "iopub.status.idle": "2022-04-17T08:15:00.818647Z",
     "shell.execute_reply": "2022-04-17T08:15:00.819260Z",
     "shell.execute_reply.started": "2022-04-17T08:09:37.186845Z"
    },
    "papermill": {
     "duration": 0.091596,
     "end_time": "2022-04-17T08:15:00.819441",
     "exception": false,
     "start_time": "2022-04-17T08:15:00.727845",
     "status": "completed"
    },
    "tags": []
   },
   "outputs": [
    {
     "data": {
      "text/html": [
       "<div>\n",
       "<style scoped>\n",
       "    .dataframe tbody tr th:only-of-type {\n",
       "        vertical-align: middle;\n",
       "    }\n",
       "\n",
       "    .dataframe tbody tr th {\n",
       "        vertical-align: top;\n",
       "    }\n",
       "\n",
       "    .dataframe thead th {\n",
       "        text-align: right;\n",
       "    }\n",
       "</style>\n",
       "<table border=\"1\" class=\"dataframe\">\n",
       "  <thead>\n",
       "    <tr style=\"text-align: right;\">\n",
       "      <th></th>\n",
       "      <th>Row ID</th>\n",
       "      <th>Postal Code</th>\n",
       "      <th>Sales</th>\n",
       "      <th>Quantity</th>\n",
       "      <th>Discount</th>\n",
       "      <th>Profit</th>\n",
       "      <th>Shipping Cost</th>\n",
       "    </tr>\n",
       "  </thead>\n",
       "  <tbody>\n",
       "    <tr>\n",
       "      <th>count</th>\n",
       "      <td>51290.00000</td>\n",
       "      <td>9994.000000</td>\n",
       "      <td>51290.000000</td>\n",
       "      <td>51290.000000</td>\n",
       "      <td>51290.000000</td>\n",
       "      <td>51290.000000</td>\n",
       "      <td>51290.000000</td>\n",
       "    </tr>\n",
       "    <tr>\n",
       "      <th>mean</th>\n",
       "      <td>25645.50000</td>\n",
       "      <td>55190.379428</td>\n",
       "      <td>246.490581</td>\n",
       "      <td>3.476545</td>\n",
       "      <td>0.142908</td>\n",
       "      <td>28.610982</td>\n",
       "      <td>26.375915</td>\n",
       "    </tr>\n",
       "    <tr>\n",
       "      <th>std</th>\n",
       "      <td>14806.29199</td>\n",
       "      <td>32063.693350</td>\n",
       "      <td>487.565361</td>\n",
       "      <td>2.278766</td>\n",
       "      <td>0.212280</td>\n",
       "      <td>174.340972</td>\n",
       "      <td>57.296804</td>\n",
       "    </tr>\n",
       "    <tr>\n",
       "      <th>min</th>\n",
       "      <td>1.00000</td>\n",
       "      <td>1040.000000</td>\n",
       "      <td>0.444000</td>\n",
       "      <td>1.000000</td>\n",
       "      <td>0.000000</td>\n",
       "      <td>-6599.978000</td>\n",
       "      <td>0.000000</td>\n",
       "    </tr>\n",
       "    <tr>\n",
       "      <th>25%</th>\n",
       "      <td>12823.25000</td>\n",
       "      <td>23223.000000</td>\n",
       "      <td>30.758625</td>\n",
       "      <td>2.000000</td>\n",
       "      <td>0.000000</td>\n",
       "      <td>0.000000</td>\n",
       "      <td>2.610000</td>\n",
       "    </tr>\n",
       "    <tr>\n",
       "      <th>50%</th>\n",
       "      <td>25645.50000</td>\n",
       "      <td>56430.500000</td>\n",
       "      <td>85.053000</td>\n",
       "      <td>3.000000</td>\n",
       "      <td>0.000000</td>\n",
       "      <td>9.240000</td>\n",
       "      <td>7.790000</td>\n",
       "    </tr>\n",
       "    <tr>\n",
       "      <th>75%</th>\n",
       "      <td>38467.75000</td>\n",
       "      <td>90008.000000</td>\n",
       "      <td>251.053200</td>\n",
       "      <td>5.000000</td>\n",
       "      <td>0.200000</td>\n",
       "      <td>36.810000</td>\n",
       "      <td>24.450000</td>\n",
       "    </tr>\n",
       "    <tr>\n",
       "      <th>max</th>\n",
       "      <td>51290.00000</td>\n",
       "      <td>99301.000000</td>\n",
       "      <td>22638.480000</td>\n",
       "      <td>14.000000</td>\n",
       "      <td>0.850000</td>\n",
       "      <td>8399.976000</td>\n",
       "      <td>933.570000</td>\n",
       "    </tr>\n",
       "  </tbody>\n",
       "</table>\n",
       "</div>"
      ],
      "text/plain": [
       "            Row ID   Postal Code         Sales      Quantity      Discount  \\\n",
       "count  51290.00000   9994.000000  51290.000000  51290.000000  51290.000000   \n",
       "mean   25645.50000  55190.379428    246.490581      3.476545      0.142908   \n",
       "std    14806.29199  32063.693350    487.565361      2.278766      0.212280   \n",
       "min        1.00000   1040.000000      0.444000      1.000000      0.000000   \n",
       "25%    12823.25000  23223.000000     30.758625      2.000000      0.000000   \n",
       "50%    25645.50000  56430.500000     85.053000      3.000000      0.000000   \n",
       "75%    38467.75000  90008.000000    251.053200      5.000000      0.200000   \n",
       "max    51290.00000  99301.000000  22638.480000     14.000000      0.850000   \n",
       "\n",
       "             Profit  Shipping Cost  \n",
       "count  51290.000000   51290.000000  \n",
       "mean      28.610982      26.375915  \n",
       "std      174.340972      57.296804  \n",
       "min    -6599.978000       0.000000  \n",
       "25%        0.000000       2.610000  \n",
       "50%        9.240000       7.790000  \n",
       "75%       36.810000      24.450000  \n",
       "max     8399.976000     933.570000  "
      ]
     },
     "execution_count": 8,
     "metadata": {},
     "output_type": "execute_result"
    }
   ],
   "source": [
    "df.describe()"
   ]
  },
  {
   "cell_type": "code",
   "execution_count": 9,
   "id": "f6eb18ac",
   "metadata": {
    "execution": {
     "iopub.execute_input": "2022-04-17T08:15:00.909743Z",
     "iopub.status.busy": "2022-04-17T08:15:00.909023Z",
     "iopub.status.idle": "2022-04-17T08:15:00.957896Z",
     "shell.execute_reply": "2022-04-17T08:15:00.957318Z",
     "shell.execute_reply.started": "2022-04-17T08:09:39.519817Z"
    },
    "papermill": {
     "duration": 0.094492,
     "end_time": "2022-04-17T08:15:00.958047",
     "exception": false,
     "start_time": "2022-04-17T08:15:00.863555",
     "status": "completed"
    },
    "tags": []
   },
   "outputs": [
    {
     "name": "stdout",
     "output_type": "stream",
     "text": [
      "<class 'pandas.core.frame.DataFrame'>\n",
      "RangeIndex: 51290 entries, 0 to 51289\n",
      "Data columns (total 24 columns):\n",
      " #   Column          Non-Null Count  Dtype         \n",
      "---  ------          --------------  -----         \n",
      " 0   Row ID          51290 non-null  int64         \n",
      " 1   Order ID        51290 non-null  object        \n",
      " 2   Order Date      51290 non-null  datetime64[ns]\n",
      " 3   Ship Date       51290 non-null  datetime64[ns]\n",
      " 4   Ship Mode       51290 non-null  object        \n",
      " 5   Customer ID     51290 non-null  object        \n",
      " 6   Customer Name   51290 non-null  object        \n",
      " 7   Segment         51290 non-null  object        \n",
      " 8   City            51290 non-null  object        \n",
      " 9   State           51290 non-null  object        \n",
      " 10  Country         51290 non-null  object        \n",
      " 11  Postal Code     9994 non-null   float64       \n",
      " 12  Market          51290 non-null  object        \n",
      " 13  Region          51290 non-null  object        \n",
      " 14  Product ID      51290 non-null  object        \n",
      " 15  Category        51290 non-null  object        \n",
      " 16  Sub-Category    51290 non-null  object        \n",
      " 17  Product Name    51290 non-null  object        \n",
      " 18  Sales           51290 non-null  float64       \n",
      " 19  Quantity        51290 non-null  int64         \n",
      " 20  Discount        51290 non-null  float64       \n",
      " 21  Profit          51290 non-null  float64       \n",
      " 22  Shipping Cost   51290 non-null  float64       \n",
      " 23  Order Priority  51290 non-null  object        \n",
      "dtypes: datetime64[ns](2), float64(5), int64(2), object(15)\n",
      "memory usage: 9.4+ MB\n"
     ]
    }
   ],
   "source": [
    "#dscription is missing the date type and categorical variables\n",
    "df.info()"
   ]
  },
  {
   "cell_type": "code",
   "execution_count": 10,
   "id": "172c33de",
   "metadata": {
    "execution": {
     "iopub.execute_input": "2022-04-17T08:15:01.049939Z",
     "iopub.status.busy": "2022-04-17T08:15:01.049319Z",
     "iopub.status.idle": "2022-04-17T08:15:01.054066Z",
     "shell.execute_reply": "2022-04-17T08:15:01.054500Z",
     "shell.execute_reply.started": "2022-04-17T08:09:42.242803Z"
    },
    "papermill": {
     "duration": 0.051847,
     "end_time": "2022-04-17T08:15:01.054674",
     "exception": false,
     "start_time": "2022-04-17T08:15:01.002827",
     "status": "completed"
    },
    "tags": []
   },
   "outputs": [
    {
     "data": {
      "text/plain": [
       "(51290, 24)"
      ]
     },
     "execution_count": 10,
     "metadata": {},
     "output_type": "execute_result"
    }
   ],
   "source": [
    "df.shape"
   ]
  },
  {
   "cell_type": "markdown",
   "id": "2febe46b",
   "metadata": {
    "papermill": {
     "duration": 0.042915,
     "end_time": "2022-04-17T08:15:01.141087",
     "exception": false,
     "start_time": "2022-04-17T08:15:01.098172",
     "status": "completed"
    },
    "tags": []
   },
   "source": [
    "There are a total of 51290 entries with a net of 24 features\n",
    "Things to take care about a feature - \n",
    "1. Are the features catgorical? (Encode them!)\n",
    "2. Are the features in outlying ranges? (Normalize or standardize them!)\n",
    "3. Does the feature contains \"null\" values? (Replace or remove them!)\n",
    "4. Are their any outliers?\n"
   ]
  },
  {
   "cell_type": "code",
   "execution_count": 11,
   "id": "3d62bb08",
   "metadata": {
    "execution": {
     "iopub.execute_input": "2022-04-17T08:15:01.233363Z",
     "iopub.status.busy": "2022-04-17T08:15:01.232507Z",
     "iopub.status.idle": "2022-04-17T08:15:01.272130Z",
     "shell.execute_reply": "2022-04-17T08:15:01.271673Z",
     "shell.execute_reply.started": "2022-04-17T08:09:44.929717Z"
    },
    "papermill": {
     "duration": 0.087581,
     "end_time": "2022-04-17T08:15:01.272302",
     "exception": false,
     "start_time": "2022-04-17T08:15:01.184721",
     "status": "completed"
    },
    "tags": []
   },
   "outputs": [
    {
     "data": {
      "text/plain": [
       "Row ID                0\n",
       "Order ID              0\n",
       "Order Date            0\n",
       "Ship Date             0\n",
       "Ship Mode             0\n",
       "Customer ID           0\n",
       "Customer Name         0\n",
       "Segment               0\n",
       "City                  0\n",
       "State                 0\n",
       "Country               0\n",
       "Postal Code       41296\n",
       "Market                0\n",
       "Region                0\n",
       "Product ID            0\n",
       "Category              0\n",
       "Sub-Category          0\n",
       "Product Name          0\n",
       "Sales                 0\n",
       "Quantity              0\n",
       "Discount              0\n",
       "Profit                0\n",
       "Shipping Cost         0\n",
       "Order Priority        0\n",
       "dtype: int64"
      ]
     },
     "execution_count": 11,
     "metadata": {},
     "output_type": "execute_result"
    }
   ],
   "source": [
    "#Checking null values\n",
    "df.isnull().sum()"
   ]
  },
  {
   "cell_type": "code",
   "execution_count": 12,
   "id": "74172e2d",
   "metadata": {
    "execution": {
     "iopub.execute_input": "2022-04-17T08:15:01.367753Z",
     "iopub.status.busy": "2022-04-17T08:15:01.367037Z",
     "iopub.status.idle": "2022-04-17T08:15:01.378316Z",
     "shell.execute_reply": "2022-04-17T08:15:01.377801Z",
     "shell.execute_reply.started": "2022-04-17T08:09:46.984230Z"
    },
    "papermill": {
     "duration": 0.061529,
     "end_time": "2022-04-17T08:15:01.378451",
     "exception": false,
     "start_time": "2022-04-17T08:15:01.316922",
     "status": "completed"
    },
    "tags": []
   },
   "outputs": [
    {
     "data": {
      "text/plain": [
       "Index(['Order ID', 'Order Date', 'Ship Date', 'Ship Mode', 'Customer ID',\n",
       "       'Customer Name', 'Segment', 'City', 'State', 'Country', 'Market',\n",
       "       'Region', 'Product ID', 'Category', 'Sub-Category', 'Product Name',\n",
       "       'Order Priority'],\n",
       "      dtype='object')"
      ]
     },
     "execution_count": 12,
     "metadata": {},
     "output_type": "execute_result"
    }
   ],
   "source": [
    "# In postal code 41296/51290 i.e. approximately 80% of the entries are null\n",
    "#Let's check the categorical (non-numeral) values\n",
    "cat = df.select_dtypes(exclude=['int64','float64']).columns\n",
    "cat"
   ]
  },
  {
   "cell_type": "markdown",
   "id": "0cc435d8",
   "metadata": {
    "papermill": {
     "duration": 0.044029,
     "end_time": "2022-04-17T08:15:01.467633",
     "exception": false,
     "start_time": "2022-04-17T08:15:01.423604",
     "status": "completed"
    },
    "tags": []
   },
   "source": [
    "Non-categorical features"
   ]
  },
  {
   "cell_type": "code",
   "execution_count": 13,
   "id": "bcc9c41c",
   "metadata": {
    "execution": {
     "iopub.execute_input": "2022-04-17T08:15:01.569499Z",
     "iopub.status.busy": "2022-04-17T08:15:01.568550Z",
     "iopub.status.idle": "2022-04-17T08:15:01.572724Z",
     "shell.execute_reply": "2022-04-17T08:15:01.572218Z",
     "shell.execute_reply.started": "2022-04-17T08:09:51.900748Z"
    },
    "papermill": {
     "duration": 0.060649,
     "end_time": "2022-04-17T08:15:01.572858",
     "exception": false,
     "start_time": "2022-04-17T08:15:01.512209",
     "status": "completed"
    },
    "tags": []
   },
   "outputs": [
    {
     "data": {
      "text/html": [
       "<div>\n",
       "<style scoped>\n",
       "    .dataframe tbody tr th:only-of-type {\n",
       "        vertical-align: middle;\n",
       "    }\n",
       "\n",
       "    .dataframe tbody tr th {\n",
       "        vertical-align: top;\n",
       "    }\n",
       "\n",
       "    .dataframe thead th {\n",
       "        text-align: right;\n",
       "    }\n",
       "</style>\n",
       "<table border=\"1\" class=\"dataframe\">\n",
       "  <thead>\n",
       "    <tr style=\"text-align: right;\">\n",
       "      <th></th>\n",
       "      <th>Row ID</th>\n",
       "      <th>Postal Code</th>\n",
       "      <th>Sales</th>\n",
       "      <th>Quantity</th>\n",
       "      <th>Discount</th>\n",
       "      <th>Profit</th>\n",
       "      <th>Shipping Cost</th>\n",
       "    </tr>\n",
       "  </thead>\n",
       "  <tbody>\n",
       "    <tr>\n",
       "      <th>0</th>\n",
       "      <td>32298</td>\n",
       "      <td>10024.0</td>\n",
       "      <td>2309.650</td>\n",
       "      <td>7</td>\n",
       "      <td>0.0</td>\n",
       "      <td>762.1845</td>\n",
       "      <td>933.57</td>\n",
       "    </tr>\n",
       "    <tr>\n",
       "      <th>1</th>\n",
       "      <td>26341</td>\n",
       "      <td>NaN</td>\n",
       "      <td>3709.395</td>\n",
       "      <td>9</td>\n",
       "      <td>0.1</td>\n",
       "      <td>-288.7650</td>\n",
       "      <td>923.63</td>\n",
       "    </tr>\n",
       "    <tr>\n",
       "      <th>2</th>\n",
       "      <td>25330</td>\n",
       "      <td>NaN</td>\n",
       "      <td>5175.171</td>\n",
       "      <td>9</td>\n",
       "      <td>0.1</td>\n",
       "      <td>919.9710</td>\n",
       "      <td>915.49</td>\n",
       "    </tr>\n",
       "    <tr>\n",
       "      <th>3</th>\n",
       "      <td>13524</td>\n",
       "      <td>NaN</td>\n",
       "      <td>2892.510</td>\n",
       "      <td>5</td>\n",
       "      <td>0.1</td>\n",
       "      <td>-96.5400</td>\n",
       "      <td>910.16</td>\n",
       "    </tr>\n",
       "    <tr>\n",
       "      <th>4</th>\n",
       "      <td>47221</td>\n",
       "      <td>NaN</td>\n",
       "      <td>2832.960</td>\n",
       "      <td>8</td>\n",
       "      <td>0.0</td>\n",
       "      <td>311.5200</td>\n",
       "      <td>903.04</td>\n",
       "    </tr>\n",
       "  </tbody>\n",
       "</table>\n",
       "</div>"
      ],
      "text/plain": [
       "   Row ID  Postal Code     Sales  Quantity  Discount    Profit  Shipping Cost\n",
       "0   32298      10024.0  2309.650         7       0.0  762.1845         933.57\n",
       "1   26341          NaN  3709.395         9       0.1 -288.7650         923.63\n",
       "2   25330          NaN  5175.171         9       0.1  919.9710         915.49\n",
       "3   13524          NaN  2892.510         5       0.1  -96.5400         910.16\n",
       "4   47221          NaN  2832.960         8       0.0  311.5200         903.04"
      ]
     },
     "execution_count": 13,
     "metadata": {},
     "output_type": "execute_result"
    }
   ],
   "source": [
    "#Non-categorical features\n",
    "num_colms = df._get_numeric_data()\n",
    "num_colms.head()"
   ]
  },
  {
   "cell_type": "code",
   "execution_count": 14,
   "id": "05fa1a59",
   "metadata": {
    "execution": {
     "iopub.execute_input": "2022-04-17T08:15:01.666895Z",
     "iopub.status.busy": "2022-04-17T08:15:01.666142Z",
     "iopub.status.idle": "2022-04-17T08:15:01.668825Z",
     "shell.execute_reply": "2022-04-17T08:15:01.669297Z",
     "shell.execute_reply.started": "2022-04-17T08:09:55.503062Z"
    },
    "papermill": {
     "duration": 0.05157,
     "end_time": "2022-04-17T08:15:01.669458",
     "exception": false,
     "start_time": "2022-04-17T08:15:01.617888",
     "status": "completed"
    },
    "tags": []
   },
   "outputs": [],
   "source": [
    "#Please note that some features like row_id are not really having direct impact on our target variable\n",
    "#We might exclude them later on after analyzing the correlation of specifc variables"
   ]
  },
  {
   "cell_type": "markdown",
   "id": "983868d0",
   "metadata": {
    "papermill": {
     "duration": 0.044424,
     "end_time": "2022-04-17T08:15:01.759110",
     "exception": false,
     "start_time": "2022-04-17T08:15:01.714686",
     "status": "completed"
    },
    "tags": []
   },
   "source": [
    "**Let us do the correlation check usin pre-defined libraries in Python**"
   ]
  },
  {
   "cell_type": "code",
   "execution_count": 15,
   "id": "1bcb6638",
   "metadata": {
    "execution": {
     "iopub.execute_input": "2022-04-17T08:15:01.853918Z",
     "iopub.status.busy": "2022-04-17T08:15:01.853332Z",
     "iopub.status.idle": "2022-04-17T08:15:01.874283Z",
     "shell.execute_reply": "2022-04-17T08:15:01.874780Z",
     "shell.execute_reply.started": "2022-04-17T08:10:20.769831Z"
    },
    "papermill": {
     "duration": 0.070446,
     "end_time": "2022-04-17T08:15:01.874950",
     "exception": false,
     "start_time": "2022-04-17T08:15:01.804504",
     "status": "completed"
    },
    "tags": []
   },
   "outputs": [
    {
     "data": {
      "text/html": [
       "<div>\n",
       "<style scoped>\n",
       "    .dataframe tbody tr th:only-of-type {\n",
       "        vertical-align: middle;\n",
       "    }\n",
       "\n",
       "    .dataframe tbody tr th {\n",
       "        vertical-align: top;\n",
       "    }\n",
       "\n",
       "    .dataframe thead th {\n",
       "        text-align: right;\n",
       "    }\n",
       "</style>\n",
       "<table border=\"1\" class=\"dataframe\">\n",
       "  <thead>\n",
       "    <tr style=\"text-align: right;\">\n",
       "      <th></th>\n",
       "      <th>Row ID</th>\n",
       "      <th>Postal Code</th>\n",
       "      <th>Sales</th>\n",
       "      <th>Quantity</th>\n",
       "      <th>Discount</th>\n",
       "      <th>Profit</th>\n",
       "      <th>Shipping Cost</th>\n",
       "    </tr>\n",
       "  </thead>\n",
       "  <tbody>\n",
       "    <tr>\n",
       "      <th>Row ID</th>\n",
       "      <td>1.000000</td>\n",
       "      <td>0.009671</td>\n",
       "      <td>-0.043889</td>\n",
       "      <td>-0.173483</td>\n",
       "      <td>0.087594</td>\n",
       "      <td>-0.019037</td>\n",
       "      <td>-0.039078</td>\n",
       "    </tr>\n",
       "    <tr>\n",
       "      <th>Postal Code</th>\n",
       "      <td>0.009671</td>\n",
       "      <td>1.000000</td>\n",
       "      <td>-0.023854</td>\n",
       "      <td>0.012761</td>\n",
       "      <td>0.058443</td>\n",
       "      <td>-0.029961</td>\n",
       "      <td>-0.025449</td>\n",
       "    </tr>\n",
       "    <tr>\n",
       "      <th>Sales</th>\n",
       "      <td>-0.043889</td>\n",
       "      <td>-0.023854</td>\n",
       "      <td>1.000000</td>\n",
       "      <td>0.313577</td>\n",
       "      <td>-0.086722</td>\n",
       "      <td>0.484918</td>\n",
       "      <td>0.768073</td>\n",
       "    </tr>\n",
       "    <tr>\n",
       "      <th>Quantity</th>\n",
       "      <td>-0.173483</td>\n",
       "      <td>0.012761</td>\n",
       "      <td>0.313577</td>\n",
       "      <td>1.000000</td>\n",
       "      <td>-0.019875</td>\n",
       "      <td>0.104365</td>\n",
       "      <td>0.272649</td>\n",
       "    </tr>\n",
       "    <tr>\n",
       "      <th>Discount</th>\n",
       "      <td>0.087594</td>\n",
       "      <td>0.058443</td>\n",
       "      <td>-0.086722</td>\n",
       "      <td>-0.019875</td>\n",
       "      <td>1.000000</td>\n",
       "      <td>-0.316490</td>\n",
       "      <td>-0.079056</td>\n",
       "    </tr>\n",
       "    <tr>\n",
       "      <th>Profit</th>\n",
       "      <td>-0.019037</td>\n",
       "      <td>-0.029961</td>\n",
       "      <td>0.484918</td>\n",
       "      <td>0.104365</td>\n",
       "      <td>-0.316490</td>\n",
       "      <td>1.000000</td>\n",
       "      <td>0.354441</td>\n",
       "    </tr>\n",
       "    <tr>\n",
       "      <th>Shipping Cost</th>\n",
       "      <td>-0.039078</td>\n",
       "      <td>-0.025449</td>\n",
       "      <td>0.768073</td>\n",
       "      <td>0.272649</td>\n",
       "      <td>-0.079056</td>\n",
       "      <td>0.354441</td>\n",
       "      <td>1.000000</td>\n",
       "    </tr>\n",
       "  </tbody>\n",
       "</table>\n",
       "</div>"
      ],
      "text/plain": [
       "                 Row ID  Postal Code     Sales  Quantity  Discount    Profit  \\\n",
       "Row ID         1.000000     0.009671 -0.043889 -0.173483  0.087594 -0.019037   \n",
       "Postal Code    0.009671     1.000000 -0.023854  0.012761  0.058443 -0.029961   \n",
       "Sales         -0.043889    -0.023854  1.000000  0.313577 -0.086722  0.484918   \n",
       "Quantity      -0.173483     0.012761  0.313577  1.000000 -0.019875  0.104365   \n",
       "Discount       0.087594     0.058443 -0.086722 -0.019875  1.000000 -0.316490   \n",
       "Profit        -0.019037    -0.029961  0.484918  0.104365 -0.316490  1.000000   \n",
       "Shipping Cost -0.039078    -0.025449  0.768073  0.272649 -0.079056  0.354441   \n",
       "\n",
       "               Shipping Cost  \n",
       "Row ID             -0.039078  \n",
       "Postal Code        -0.025449  \n",
       "Sales               0.768073  \n",
       "Quantity            0.272649  \n",
       "Discount           -0.079056  \n",
       "Profit              0.354441  \n",
       "Shipping Cost       1.000000  "
      ]
     },
     "execution_count": 15,
     "metadata": {},
     "output_type": "execute_result"
    }
   ],
   "source": [
    "attributes = ['Sales','Quantity','Discount','Profit']\n",
    "corr_mat = df.corr()\n",
    "corr_mat"
   ]
  },
  {
   "cell_type": "code",
   "execution_count": 16,
   "id": "9eb192a0",
   "metadata": {
    "execution": {
     "iopub.execute_input": "2022-04-17T08:15:01.968994Z",
     "iopub.status.busy": "2022-04-17T08:15:01.968395Z",
     "iopub.status.idle": "2022-04-17T08:15:02.431106Z",
     "shell.execute_reply": "2022-04-17T08:15:02.430668Z",
     "shell.execute_reply.started": "2022-04-17T08:10:23.570321Z"
    },
    "papermill": {
     "duration": 0.511393,
     "end_time": "2022-04-17T08:15:02.431257",
     "exception": false,
     "start_time": "2022-04-17T08:15:01.919864",
     "status": "completed"
    },
    "tags": []
   },
   "outputs": [
    {
     "data": {
      "image/png": "[encoded data removed]",
      "text/plain": [
       "<Figure size 864x648 with 2 Axes>"
      ]
     },
     "metadata": {},
     "output_type": "display_data"
    }
   ],
   "source": [
    "plt.subplots(figsize=(12,9))\n",
    "sns.heatmap(corr_mat,annot=True)\n",
    "plt.show()"
   ]
  },
  {
   "cell_type": "code",
   "execution_count": null,
   "id": "67b5bb7a",
   "metadata": {
    "papermill": {
     "duration": 0.046844,
     "end_time": "2022-04-17T08:15:02.524691",
     "exception": false,
     "start_time": "2022-04-17T08:15:02.477847",
     "status": "completed"
    },
    "tags": []
   },
   "outputs": [],
   "source": []
  },
  {
   "cell_type": "markdown",
   "id": "d661bf6b",
   "metadata": {
    "papermill": {
     "duration": 0.046436,
     "end_time": "2022-04-17T08:15:02.618803",
     "exception": false,
     "start_time": "2022-04-17T08:15:02.572367",
     "status": "completed"
    },
    "tags": []
   },
   "source": [
    "**After looking at the data, I believe that we can derive out several customer-based and product-based insights from this data. These insights can later-on help us in determining the methods to increase the profit.**\n",
    "\n",
    "**Let us have a look at the purchasing tendency of customers\n",
    "**"
   ]
  },
  {
   "cell_type": "code",
   "execution_count": 17,
   "id": "11b3cbc8",
   "metadata": {
    "execution": {
     "iopub.execute_input": "2022-04-17T08:15:02.716076Z",
     "iopub.status.busy": "2022-04-17T08:15:02.715502Z",
     "iopub.status.idle": "2022-04-17T08:15:02.792935Z",
     "shell.execute_reply": "2022-04-17T08:15:02.793480Z",
     "shell.execute_reply.started": "2022-04-17T08:11:06.112782Z"
    },
    "papermill": {
     "duration": 0.127883,
     "end_time": "2022-04-17T08:15:02.793644",
     "exception": false,
     "start_time": "2022-04-17T08:15:02.665761",
     "status": "completed"
    },
    "tags": []
   },
   "outputs": [
    {
     "data": {
      "text/plain": [
       "Row ID            51290\n",
       "Order ID          25035\n",
       "Order Date         1430\n",
       "Ship Date          1464\n",
       "Ship Mode             4\n",
       "Customer ID        1590\n",
       "Customer Name       795\n",
       "Segment               3\n",
       "City               3636\n",
       "State              1094\n",
       "Country             147\n",
       "Postal Code         631\n",
       "Market                7\n",
       "Region               13\n",
       "Product ID        10292\n",
       "Category              3\n",
       "Sub-Category         17\n",
       "Product Name       3788\n",
       "Sales             22995\n",
       "Quantity             14\n",
       "Discount             27\n",
       "Profit            24575\n",
       "Shipping Cost     10037\n",
       "Order Priority        4\n",
       "dtype: int64"
      ]
     },
     "execution_count": 17,
     "metadata": {},
     "output_type": "execute_result"
    }
   ],
   "source": [
    "df.nunique()"
   ]
  },
  {
   "cell_type": "code",
   "execution_count": 18,
   "id": "12af896d",
   "metadata": {
    "execution": {
     "iopub.execute_input": "2022-04-17T08:15:02.891366Z",
     "iopub.status.busy": "2022-04-17T08:15:02.890756Z",
     "iopub.status.idle": "2022-04-17T08:15:02.922928Z",
     "shell.execute_reply": "2022-04-17T08:15:02.923454Z",
     "shell.execute_reply.started": "2022-04-17T08:11:08.484814Z"
    },
    "papermill": {
     "duration": 0.083032,
     "end_time": "2022-04-17T08:15:02.923627",
     "exception": false,
     "start_time": "2022-04-17T08:15:02.840595",
     "status": "completed"
    },
    "tags": []
   },
   "outputs": [],
   "source": [
    "#Let us temporarily drop the duplicates and only focus on those features\n",
    "#that can help us in determining the purchasing tendency of customers\n",
    "data_customer = df[['Customer ID','Order ID','Order Date', 'Ship Date', 'Ship Mode','Country']].drop_duplicates()"
   ]
  },
  {
   "cell_type": "code",
   "execution_count": 19,
   "id": "0b681801",
   "metadata": {
    "execution": {
     "iopub.execute_input": "2022-04-17T08:15:03.022248Z",
     "iopub.status.busy": "2022-04-17T08:15:03.021682Z",
     "iopub.status.idle": "2022-04-17T08:15:03.034217Z",
     "shell.execute_reply": "2022-04-17T08:15:03.034761Z",
     "shell.execute_reply.started": "2022-04-17T08:11:09.110289Z"
    },
    "papermill": {
     "duration": 0.063179,
     "end_time": "2022-04-17T08:15:03.034932",
     "exception": false,
     "start_time": "2022-04-17T08:15:02.971753",
     "status": "completed"
    },
    "tags": []
   },
   "outputs": [
    {
     "data": {
      "text/plain": [
       "Customer ID    25754\n",
       "Order ID       25754\n",
       "Order Date     25754\n",
       "Ship Date      25754\n",
       "Ship Mode      25754\n",
       "Country        25754\n",
       "dtype: int64"
      ]
     },
     "execution_count": 19,
     "metadata": {},
     "output_type": "execute_result"
    }
   ],
   "source": [
    "data_customer.count()"
   ]
  },
  {
   "cell_type": "code",
   "execution_count": 20,
   "id": "fdbde4ee",
   "metadata": {
    "execution": {
     "iopub.execute_input": "2022-04-17T08:15:03.133609Z",
     "iopub.status.busy": "2022-04-17T08:15:03.132974Z",
     "iopub.status.idle": "2022-04-17T08:15:03.143117Z",
     "shell.execute_reply": "2022-04-17T08:15:03.143583Z",
     "shell.execute_reply.started": "2022-04-17T08:11:09.887450Z"
    },
    "papermill": {
     "duration": 0.06091,
     "end_time": "2022-04-17T08:15:03.143761",
     "exception": false,
     "start_time": "2022-04-17T08:15:03.082851",
     "status": "completed"
    },
    "tags": []
   },
   "outputs": [
    {
     "data": {
      "text/html": [
       "<div>\n",
       "<style scoped>\n",
       "    .dataframe tbody tr th:only-of-type {\n",
       "        vertical-align: middle;\n",
       "    }\n",
       "\n",
       "    .dataframe tbody tr th {\n",
       "        vertical-align: top;\n",
       "    }\n",
       "\n",
       "    .dataframe thead th {\n",
       "        text-align: right;\n",
       "    }\n",
       "</style>\n",
       "<table border=\"1\" class=\"dataframe\">\n",
       "  <thead>\n",
       "    <tr style=\"text-align: right;\">\n",
       "      <th></th>\n",
       "      <th>Customer ID</th>\n",
       "      <th>Order ID</th>\n",
       "      <th>Order Date</th>\n",
       "      <th>Ship Date</th>\n",
       "      <th>Ship Mode</th>\n",
       "      <th>Country</th>\n",
       "    </tr>\n",
       "  </thead>\n",
       "  <tbody>\n",
       "    <tr>\n",
       "      <th>0</th>\n",
       "      <td>RH-19495</td>\n",
       "      <td>CA-2012-124891</td>\n",
       "      <td>2012-07-31</td>\n",
       "      <td>2012-07-31</td>\n",
       "      <td>Same Day</td>\n",
       "      <td>United States</td>\n",
       "    </tr>\n",
       "    <tr>\n",
       "      <th>1</th>\n",
       "      <td>JR-16210</td>\n",
       "      <td>IN-2013-77878</td>\n",
       "      <td>2013-05-02</td>\n",
       "      <td>2013-07-02</td>\n",
       "      <td>Second Class</td>\n",
       "      <td>Australia</td>\n",
       "    </tr>\n",
       "    <tr>\n",
       "      <th>2</th>\n",
       "      <td>CR-12730</td>\n",
       "      <td>IN-2013-71249</td>\n",
       "      <td>2013-10-17</td>\n",
       "      <td>2013-10-18</td>\n",
       "      <td>First Class</td>\n",
       "      <td>Australia</td>\n",
       "    </tr>\n",
       "    <tr>\n",
       "      <th>3</th>\n",
       "      <td>KM-16375</td>\n",
       "      <td>ES-2013-1579342</td>\n",
       "      <td>2013-01-28</td>\n",
       "      <td>2013-01-30</td>\n",
       "      <td>First Class</td>\n",
       "      <td>Germany</td>\n",
       "    </tr>\n",
       "    <tr>\n",
       "      <th>4</th>\n",
       "      <td>RH-9495</td>\n",
       "      <td>SG-2013-4320</td>\n",
       "      <td>2013-05-11</td>\n",
       "      <td>2013-06-11</td>\n",
       "      <td>Same Day</td>\n",
       "      <td>Senegal</td>\n",
       "    </tr>\n",
       "  </tbody>\n",
       "</table>\n",
       "</div>"
      ],
      "text/plain": [
       "  Customer ID         Order ID Order Date  Ship Date     Ship Mode  \\\n",
       "0    RH-19495   CA-2012-124891 2012-07-31 2012-07-31      Same Day   \n",
       "1    JR-16210    IN-2013-77878 2013-05-02 2013-07-02  Second Class   \n",
       "2    CR-12730    IN-2013-71249 2013-10-17 2013-10-18   First Class   \n",
       "3    KM-16375  ES-2013-1579342 2013-01-28 2013-01-30   First Class   \n",
       "4     RH-9495     SG-2013-4320 2013-05-11 2013-06-11      Same Day   \n",
       "\n",
       "         Country  \n",
       "0  United States  \n",
       "1      Australia  \n",
       "2      Australia  \n",
       "3        Germany  \n",
       "4        Senegal  "
      ]
     },
     "execution_count": 20,
     "metadata": {},
     "output_type": "execute_result"
    }
   ],
   "source": [
    "#Only 25754 rows are coming up after giving up duplicate values\n",
    "data_customer.head()"
   ]
  },
  {
   "cell_type": "code",
   "execution_count": 21,
   "id": "450d7682",
   "metadata": {
    "execution": {
     "iopub.execute_input": "2022-04-17T08:15:03.244486Z",
     "iopub.status.busy": "2022-04-17T08:15:03.243827Z",
     "iopub.status.idle": "2022-04-17T08:15:03.250110Z",
     "shell.execute_reply": "2022-04-17T08:15:03.250621Z",
     "shell.execute_reply.started": "2022-04-17T08:11:11.703028Z"
    },
    "papermill": {
     "duration": 0.058267,
     "end_time": "2022-04-17T08:15:03.250781",
     "exception": false,
     "start_time": "2022-04-17T08:15:03.192514",
     "status": "completed"
    },
    "tags": []
   },
   "outputs": [
    {
     "data": {
      "text/plain": [
       "1590"
      ]
     },
     "execution_count": 21,
     "metadata": {},
     "output_type": "execute_result"
    }
   ],
   "source": [
    "data_customer['Customer ID'].nunique()"
   ]
  },
  {
   "cell_type": "code",
   "execution_count": 22,
   "id": "2c26c153",
   "metadata": {
    "execution": {
     "iopub.execute_input": "2022-04-17T08:15:03.350108Z",
     "iopub.status.busy": "2022-04-17T08:15:03.349488Z",
     "iopub.status.idle": "2022-04-17T08:15:06.168349Z",
     "shell.execute_reply": "2022-04-17T08:15:06.167670Z",
     "shell.execute_reply.started": "2022-04-17T08:11:12.487038Z"
    },
    "papermill": {
     "duration": 2.869617,
     "end_time": "2022-04-17T08:15:06.168486",
     "exception": false,
     "start_time": "2022-04-17T08:15:03.298869",
     "status": "completed"
    },
    "tags": []
   },
   "outputs": [],
   "source": [
    "#Out of 25754 also, about 1590 are unique, rest are duplicates by the point-of-view of customers\n",
    "#On the basis of customer_id, let's group the features into \n",
    "\n",
    "def new_features(x):\n",
    "    d = []\n",
    "    d.append(x['Order ID'].nunique())\n",
    "    d.append(x['Sales'].sum())\n",
    "    d.append(x['Shipping Cost'].sum())\n",
    "    d.append(pd.to_datetime(x['Order Date']).min())\n",
    "    d.append(pd.to_datetime(x['Order Date']).max())\n",
    "    d.append(x['City'].nunique())\n",
    "    return pd.Series(d, index=['Purchases','Total_Sales','Total_Cost','First_Purchase_Date','Latest_Purchase_Date','Location_Count'])\n",
    "\n",
    "df_customer = df.groupby('Customer ID').apply(new_features)"
   ]
  },
  {
   "cell_type": "code",
   "execution_count": 23,
   "id": "35201f02",
   "metadata": {
    "execution": {
     "iopub.execute_input": "2022-04-17T08:15:06.272119Z",
     "iopub.status.busy": "2022-04-17T08:15:06.271564Z",
     "iopub.status.idle": "2022-04-17T08:15:06.274576Z",
     "shell.execute_reply": "2022-04-17T08:15:06.275084Z",
     "shell.execute_reply.started": "2022-04-17T08:11:15.605510Z"
    },
    "papermill": {
     "duration": 0.057425,
     "end_time": "2022-04-17T08:15:06.275251",
     "exception": false,
     "start_time": "2022-04-17T08:15:06.217826",
     "status": "completed"
    },
    "tags": []
   },
   "outputs": [
    {
     "data": {
      "text/plain": [
       "Index(['Purchases', 'Total_Sales', 'Total_Cost', 'First_Purchase_Date',\n",
       "       'Latest_Purchase_Date', 'Location_Count'],\n",
       "      dtype='object')"
      ]
     },
     "execution_count": 23,
     "metadata": {},
     "output_type": "execute_result"
    }
   ],
   "source": [
    "df_customer.columns"
   ]
  },
  {
   "cell_type": "code",
   "execution_count": 24,
   "id": "d354e2f8",
   "metadata": {
    "execution": {
     "iopub.execute_input": "2022-04-17T08:15:06.376048Z",
     "iopub.status.busy": "2022-04-17T08:15:06.375446Z",
     "iopub.status.idle": "2022-04-17T08:15:06.379715Z",
     "shell.execute_reply": "2022-04-17T08:15:06.380252Z",
     "shell.execute_reply.started": "2022-04-17T08:11:15.613272Z"
    },
    "papermill": {
     "duration": 0.056178,
     "end_time": "2022-04-17T08:15:06.380435",
     "exception": false,
     "start_time": "2022-04-17T08:15:06.324257",
     "status": "completed"
    },
    "tags": []
   },
   "outputs": [
    {
     "data": {
      "text/plain": [
       "(1590, 6)"
      ]
     },
     "execution_count": 24,
     "metadata": {},
     "output_type": "execute_result"
    }
   ],
   "source": [
    "df_customer.shape"
   ]
  },
  {
   "cell_type": "code",
   "execution_count": 25,
   "id": "dfda4108",
   "metadata": {
    "execution": {
     "iopub.execute_input": "2022-04-17T08:15:06.481492Z",
     "iopub.status.busy": "2022-04-17T08:15:06.480893Z",
     "iopub.status.idle": "2022-04-17T08:15:06.486165Z",
     "shell.execute_reply": "2022-04-17T08:15:06.486671Z",
     "shell.execute_reply.started": "2022-04-17T08:11:15.626756Z"
    },
    "papermill": {
     "duration": 0.057191,
     "end_time": "2022-04-17T08:15:06.486829",
     "exception": false,
     "start_time": "2022-04-17T08:15:06.429638",
     "status": "completed"
    },
    "tags": []
   },
   "outputs": [],
   "source": [
    "#Now the duplicate values of the features are removed in the basis of customer_id\n",
    "#Let us find the customer retention timing as that can be an important parameter in determining the efficacy of superstore\n",
    "from datetime import datetime\n",
    "df_customer['Duration'] = (df_customer['Latest_Purchase_Date'] - df_customer['First_Purchase_Date']).dt.days"
   ]
  },
  {
   "cell_type": "code",
   "execution_count": 26,
   "id": "51c9c1d2",
   "metadata": {
    "execution": {
     "iopub.execute_input": "2022-04-17T08:15:06.587385Z",
     "iopub.status.busy": "2022-04-17T08:15:06.586839Z",
     "iopub.status.idle": "2022-04-17T08:15:06.593567Z",
     "shell.execute_reply": "2022-04-17T08:15:06.594065Z",
     "shell.execute_reply.started": "2022-04-17T08:11:17.038828Z"
    },
    "papermill": {
     "duration": 0.058296,
     "end_time": "2022-04-17T08:15:06.594213",
     "exception": false,
     "start_time": "2022-04-17T08:15:06.535917",
     "status": "completed"
    },
    "tags": []
   },
   "outputs": [
    {
     "data": {
      "text/plain": [
       "Customer ID\n",
       "AA-10315     71.736842\n",
       "AA-10375     58.434783\n",
       "AA-10480     66.650000\n",
       "AA-10645     39.527778\n",
       "AA-315      177.285714\n",
       "Name: Frequency, dtype: float64"
      ]
     },
     "execution_count": 26,
     "metadata": {},
     "output_type": "execute_result"
    }
   ],
   "source": [
    "# Customer shopping frequency = (Duration of its association with store)/(count of purchases)\n",
    "df_customer['Frequency'] = df_customer['Duration']/df_customer['Purchases']\n",
    "df_customer['Frequency'].head()"
   ]
  },
  {
   "cell_type": "code",
   "execution_count": 27,
   "id": "cbed5866",
   "metadata": {
    "execution": {
     "iopub.execute_input": "2022-04-17T08:15:06.695452Z",
     "iopub.status.busy": "2022-04-17T08:15:06.694875Z",
     "iopub.status.idle": "2022-04-17T08:15:06.707792Z",
     "shell.execute_reply": "2022-04-17T08:15:06.707358Z",
     "shell.execute_reply.started": "2022-04-17T08:11:17.809898Z"
    },
    "papermill": {
     "duration": 0.064542,
     "end_time": "2022-04-17T08:15:06.707923",
     "exception": false,
     "start_time": "2022-04-17T08:15:06.643381",
     "status": "completed"
    },
    "tags": []
   },
   "outputs": [
    {
     "data": {
      "text/html": [
       "<div>\n",
       "<style scoped>\n",
       "    .dataframe tbody tr th:only-of-type {\n",
       "        vertical-align: middle;\n",
       "    }\n",
       "\n",
       "    .dataframe tbody tr th {\n",
       "        vertical-align: top;\n",
       "    }\n",
       "\n",
       "    .dataframe thead th {\n",
       "        text-align: right;\n",
       "    }\n",
       "</style>\n",
       "<table border=\"1\" class=\"dataframe\">\n",
       "  <thead>\n",
       "    <tr style=\"text-align: right;\">\n",
       "      <th></th>\n",
       "      <th>Purchases</th>\n",
       "      <th>Total_Sales</th>\n",
       "      <th>Total_Cost</th>\n",
       "      <th>First_Purchase_Date</th>\n",
       "      <th>Latest_Purchase_Date</th>\n",
       "      <th>Location_Count</th>\n",
       "      <th>Duration</th>\n",
       "      <th>Frequency</th>\n",
       "    </tr>\n",
       "    <tr>\n",
       "      <th>Customer ID</th>\n",
       "      <th></th>\n",
       "      <th></th>\n",
       "      <th></th>\n",
       "      <th></th>\n",
       "      <th></th>\n",
       "      <th></th>\n",
       "      <th></th>\n",
       "      <th></th>\n",
       "    </tr>\n",
       "  </thead>\n",
       "  <tbody>\n",
       "    <tr>\n",
       "      <th>AA-10315</th>\n",
       "      <td>19</td>\n",
       "      <td>13747.41300</td>\n",
       "      <td>1236.15</td>\n",
       "      <td>2011-03-31</td>\n",
       "      <td>2014-12-23</td>\n",
       "      <td>18</td>\n",
       "      <td>1363</td>\n",
       "      <td>71.736842</td>\n",
       "    </tr>\n",
       "    <tr>\n",
       "      <th>AA-10375</th>\n",
       "      <td>23</td>\n",
       "      <td>5884.19500</td>\n",
       "      <td>903.92</td>\n",
       "      <td>2011-04-21</td>\n",
       "      <td>2014-12-25</td>\n",
       "      <td>23</td>\n",
       "      <td>1344</td>\n",
       "      <td>58.434783</td>\n",
       "    </tr>\n",
       "    <tr>\n",
       "      <th>AA-10480</th>\n",
       "      <td>20</td>\n",
       "      <td>17695.58978</td>\n",
       "      <td>1633.67</td>\n",
       "      <td>2011-01-11</td>\n",
       "      <td>2014-09-05</td>\n",
       "      <td>20</td>\n",
       "      <td>1333</td>\n",
       "      <td>66.650000</td>\n",
       "    </tr>\n",
       "    <tr>\n",
       "      <th>AA-10645</th>\n",
       "      <td>36</td>\n",
       "      <td>15343.89070</td>\n",
       "      <td>1752.27</td>\n",
       "      <td>2011-01-12</td>\n",
       "      <td>2014-12-05</td>\n",
       "      <td>35</td>\n",
       "      <td>1423</td>\n",
       "      <td>39.527778</td>\n",
       "    </tr>\n",
       "    <tr>\n",
       "      <th>AA-315</th>\n",
       "      <td>7</td>\n",
       "      <td>2243.25600</td>\n",
       "      <td>215.80</td>\n",
       "      <td>2011-08-06</td>\n",
       "      <td>2014-12-29</td>\n",
       "      <td>7</td>\n",
       "      <td>1241</td>\n",
       "      <td>177.285714</td>\n",
       "    </tr>\n",
       "  </tbody>\n",
       "</table>\n",
       "</div>"
      ],
      "text/plain": [
       "             Purchases  Total_Sales  Total_Cost First_Purchase_Date  \\\n",
       "Customer ID                                                           \n",
       "AA-10315            19  13747.41300     1236.15          2011-03-31   \n",
       "AA-10375            23   5884.19500      903.92          2011-04-21   \n",
       "AA-10480            20  17695.58978     1633.67          2011-01-11   \n",
       "AA-10645            36  15343.89070     1752.27          2011-01-12   \n",
       "AA-315               7   2243.25600      215.80          2011-08-06   \n",
       "\n",
       "            Latest_Purchase_Date  Location_Count  Duration   Frequency  \n",
       "Customer ID                                                             \n",
       "AA-10315              2014-12-23              18      1363   71.736842  \n",
       "AA-10375              2014-12-25              23      1344   58.434783  \n",
       "AA-10480              2014-09-05              20      1333   66.650000  \n",
       "AA-10645              2014-12-05              35      1423   39.527778  \n",
       "AA-315                2014-12-29               7      1241  177.285714  "
      ]
     },
     "execution_count": 27,
     "metadata": {},
     "output_type": "execute_result"
    }
   ],
   "source": [
    "df_customer.head()"
   ]
  },
  {
   "cell_type": "code",
   "execution_count": 28,
   "id": "5a89fb9d",
   "metadata": {
    "execution": {
     "iopub.execute_input": "2022-04-17T08:15:06.816454Z",
     "iopub.status.busy": "2022-04-17T08:15:06.815870Z",
     "iopub.status.idle": "2022-04-17T08:15:06.821246Z",
     "shell.execute_reply": "2022-04-17T08:15:06.821665Z",
     "shell.execute_reply.started": "2022-04-17T08:11:19.288715Z"
    },
    "papermill": {
     "duration": 0.064459,
     "end_time": "2022-04-17T08:15:06.821821",
     "exception": false,
     "start_time": "2022-04-17T08:15:06.757362",
     "status": "completed"
    },
    "tags": []
   },
   "outputs": [
    {
     "data": {
      "text/plain": [
       "count    1590.000000\n",
       "mean      111.303339\n",
       "std        80.489358\n",
       "min         0.000000\n",
       "25%        50.669643\n",
       "50%        73.055728\n",
       "75%       155.083333\n",
       "max       655.500000\n",
       "Name: Frequency, dtype: float64"
      ]
     },
     "execution_count": 28,
     "metadata": {},
     "output_type": "execute_result"
    }
   ],
   "source": [
    "df_customer['Frequency'].describe()"
   ]
  },
  {
   "cell_type": "code",
   "execution_count": 29,
   "id": "648eeed0",
   "metadata": {
    "execution": {
     "iopub.execute_input": "2022-04-17T08:15:06.925099Z",
     "iopub.status.busy": "2022-04-17T08:15:06.924526Z",
     "iopub.status.idle": "2022-04-17T08:15:07.140777Z",
     "shell.execute_reply": "2022-04-17T08:15:07.140199Z",
     "shell.execute_reply.started": "2022-04-17T08:11:19.716428Z"
    },
    "papermill": {
     "duration": 0.26936,
     "end_time": "2022-04-17T08:15:07.140909",
     "exception": false,
     "start_time": "2022-04-17T08:15:06.871549",
     "status": "completed"
    },
    "tags": []
   },
   "outputs": [
    {
     "data": {
      "image/png": "[encoded data removed]",
      "text/plain": [
       "<Figure size 432x288 with 1 Axes>"
      ]
     },
     "metadata": {},
     "output_type": "display_data"
    }
   ],
   "source": [
    "#Mean frequency is 111, with max and min be 655 and 0 respectively. \n",
    "#Profile of a customer is based on his/her frequency of purchase\n",
    "plt.hist(df_customer['Frequency'], bins=3)\n",
    "plt.xlabel('frequency of purchase')\n",
    "plt.show()"
   ]
  },
  {
   "cell_type": "code",
   "execution_count": 30,
   "id": "d944fdbe",
   "metadata": {
    "execution": {
     "iopub.execute_input": "2022-04-17T08:15:07.252007Z",
     "iopub.status.busy": "2022-04-17T08:15:07.251400Z",
     "iopub.status.idle": "2022-04-17T08:15:07.254811Z",
     "shell.execute_reply": "2022-04-17T08:15:07.254375Z",
     "shell.execute_reply.started": "2022-04-17T08:11:21.256944Z"
    },
    "papermill": {
     "duration": 0.06262,
     "end_time": "2022-04-17T08:15:07.254945",
     "exception": false,
     "start_time": "2022-04-17T08:15:07.192325",
     "status": "completed"
    },
    "tags": []
   },
   "outputs": [
    {
     "data": {
      "text/plain": [
       "Low       1442\n",
       "Medium     138\n",
       "High        10\n",
       "Name: Frequency, dtype: int64"
      ]
     },
     "execution_count": 30,
     "metadata": {},
     "output_type": "execute_result"
    }
   ],
   "source": [
    "#Fragmenting this data better to get more specific insights \n",
    "def frequency(x):\n",
    "    if x < 219:\n",
    "        return 'Low' \n",
    "    elif x < 436:\n",
    "        return 'Medium' \n",
    "    else:\n",
    "        return 'High'\n",
    "\n",
    "df_customer['Frequency'] = df_customer.Frequency.apply(frequency)\n",
    "\n",
    "df_customer['Frequency'].value_counts()"
   ]
  },
  {
   "cell_type": "code",
   "execution_count": 31,
   "id": "493eca04",
   "metadata": {
    "execution": {
     "iopub.execute_input": "2022-04-17T08:15:07.371357Z",
     "iopub.status.busy": "2022-04-17T08:15:07.370699Z",
     "iopub.status.idle": "2022-04-17T08:15:07.373978Z",
     "shell.execute_reply": "2022-04-17T08:15:07.374421Z",
     "shell.execute_reply.started": "2022-04-17T08:11:21.700818Z"
    },
    "papermill": {
     "duration": 0.067272,
     "end_time": "2022-04-17T08:15:07.374583",
     "exception": false,
     "start_time": "2022-04-17T08:15:07.307311",
     "status": "completed"
    },
    "tags": []
   },
   "outputs": [
    {
     "data": {
      "text/html": [
       "<div>\n",
       "<style scoped>\n",
       "    .dataframe tbody tr th:only-of-type {\n",
       "        vertical-align: middle;\n",
       "    }\n",
       "\n",
       "    .dataframe tbody tr th {\n",
       "        vertical-align: top;\n",
       "    }\n",
       "\n",
       "    .dataframe thead th {\n",
       "        text-align: right;\n",
       "    }\n",
       "</style>\n",
       "<table border=\"1\" class=\"dataframe\">\n",
       "  <thead>\n",
       "    <tr style=\"text-align: right;\">\n",
       "      <th></th>\n",
       "      <th>Purchases</th>\n",
       "      <th>Total_Sales</th>\n",
       "      <th>Total_Cost</th>\n",
       "      <th>First_Purchase_Date</th>\n",
       "      <th>Latest_Purchase_Date</th>\n",
       "      <th>Location_Count</th>\n",
       "      <th>Duration</th>\n",
       "      <th>Frequency</th>\n",
       "    </tr>\n",
       "    <tr>\n",
       "      <th>Customer ID</th>\n",
       "      <th></th>\n",
       "      <th></th>\n",
       "      <th></th>\n",
       "      <th></th>\n",
       "      <th></th>\n",
       "      <th></th>\n",
       "      <th></th>\n",
       "      <th></th>\n",
       "    </tr>\n",
       "  </thead>\n",
       "  <tbody>\n",
       "    <tr>\n",
       "      <th>AA-10315</th>\n",
       "      <td>19</td>\n",
       "      <td>13747.41300</td>\n",
       "      <td>1236.15</td>\n",
       "      <td>2011-03-31</td>\n",
       "      <td>2014-12-23</td>\n",
       "      <td>18</td>\n",
       "      <td>1363</td>\n",
       "      <td>Low</td>\n",
       "    </tr>\n",
       "    <tr>\n",
       "      <th>AA-10375</th>\n",
       "      <td>23</td>\n",
       "      <td>5884.19500</td>\n",
       "      <td>903.92</td>\n",
       "      <td>2011-04-21</td>\n",
       "      <td>2014-12-25</td>\n",
       "      <td>23</td>\n",
       "      <td>1344</td>\n",
       "      <td>Low</td>\n",
       "    </tr>\n",
       "    <tr>\n",
       "      <th>AA-10480</th>\n",
       "      <td>20</td>\n",
       "      <td>17695.58978</td>\n",
       "      <td>1633.67</td>\n",
       "      <td>2011-01-11</td>\n",
       "      <td>2014-09-05</td>\n",
       "      <td>20</td>\n",
       "      <td>1333</td>\n",
       "      <td>Low</td>\n",
       "    </tr>\n",
       "    <tr>\n",
       "      <th>AA-10645</th>\n",
       "      <td>36</td>\n",
       "      <td>15343.89070</td>\n",
       "      <td>1752.27</td>\n",
       "      <td>2011-01-12</td>\n",
       "      <td>2014-12-05</td>\n",
       "      <td>35</td>\n",
       "      <td>1423</td>\n",
       "      <td>Low</td>\n",
       "    </tr>\n",
       "    <tr>\n",
       "      <th>AA-315</th>\n",
       "      <td>7</td>\n",
       "      <td>2243.25600</td>\n",
       "      <td>215.80</td>\n",
       "      <td>2011-08-06</td>\n",
       "      <td>2014-12-29</td>\n",
       "      <td>7</td>\n",
       "      <td>1241</td>\n",
       "      <td>Low</td>\n",
       "    </tr>\n",
       "  </tbody>\n",
       "</table>\n",
       "</div>"
      ],
      "text/plain": [
       "             Purchases  Total_Sales  Total_Cost First_Purchase_Date  \\\n",
       "Customer ID                                                           \n",
       "AA-10315            19  13747.41300     1236.15          2011-03-31   \n",
       "AA-10375            23   5884.19500      903.92          2011-04-21   \n",
       "AA-10480            20  17695.58978     1633.67          2011-01-11   \n",
       "AA-10645            36  15343.89070     1752.27          2011-01-12   \n",
       "AA-315               7   2243.25600      215.80          2011-08-06   \n",
       "\n",
       "            Latest_Purchase_Date  Location_Count  Duration Frequency  \n",
       "Customer ID                                                           \n",
       "AA-10315              2014-12-23              18      1363       Low  \n",
       "AA-10375              2014-12-25              23      1344       Low  \n",
       "AA-10480              2014-09-05              20      1333       Low  \n",
       "AA-10645              2014-12-05              35      1423       Low  \n",
       "AA-315                2014-12-29               7      1241       Low  "
      ]
     },
     "execution_count": 31,
     "metadata": {},
     "output_type": "execute_result"
    }
   ],
   "source": [
    "#Insights 1 - \n",
    "#Almost 1442 customers have a low freuquency of purchase.\n",
    "#Approx 8% customers have a medium freuquency whereas 10 customers on the whole have a high frequency of purchase.\n",
    "#Checking the altered table\n",
    "df_customer.head()"
   ]
  },
  {
   "cell_type": "markdown",
   "id": "a68c3c60",
   "metadata": {
    "papermill": {
     "duration": 0.051099,
     "end_time": "2022-04-17T08:15:07.477168",
     "exception": false,
     "start_time": "2022-04-17T08:15:07.426069",
     "status": "completed"
    },
    "tags": []
   },
   "source": [
    "**Let us now check if high frequency customers are contributing more to the profit**"
   ]
  },
  {
   "cell_type": "code",
   "execution_count": 32,
   "id": "aab87ed5",
   "metadata": {
    "execution": {
     "iopub.execute_input": "2022-04-17T08:15:07.582681Z",
     "iopub.status.busy": "2022-04-17T08:15:07.582123Z",
     "iopub.status.idle": "2022-04-17T08:15:07.594623Z",
     "shell.execute_reply": "2022-04-17T08:15:07.594126Z",
     "shell.execute_reply.started": "2022-04-17T08:11:23.466784Z"
    },
    "papermill": {
     "duration": 0.066381,
     "end_time": "2022-04-17T08:15:07.594758",
     "exception": false,
     "start_time": "2022-04-17T08:15:07.528377",
     "status": "completed"
    },
    "tags": []
   },
   "outputs": [],
   "source": [
    "result = df.groupby([\"Customer Name\"])['Profit'].aggregate(np.sum).reset_index().sort_values('Profit',ascending = False).head(20)\n"
   ]
  },
  {
   "cell_type": "code",
   "execution_count": 33,
   "id": "a3bf714f",
   "metadata": {
    "execution": {
     "iopub.execute_input": "2022-04-17T08:15:07.703253Z",
     "iopub.status.busy": "2022-04-17T08:15:07.702662Z",
     "iopub.status.idle": "2022-04-17T08:15:07.705852Z",
     "shell.execute_reply": "2022-04-17T08:15:07.705392Z",
     "shell.execute_reply.started": "2022-04-17T08:11:23.937078Z"
    },
    "papermill": {
     "duration": 0.059906,
     "end_time": "2022-04-17T08:15:07.705982",
     "exception": false,
     "start_time": "2022-04-17T08:15:07.646076",
     "status": "completed"
    },
    "tags": []
   },
   "outputs": [],
   "source": [
    "df_customer['Revenue'] = df_customer['Purchases'] *  df_customer['Total_Sales']"
   ]
  },
  {
   "cell_type": "code",
   "execution_count": 34,
   "id": "2e6b643a",
   "metadata": {
    "execution": {
     "iopub.execute_input": "2022-04-17T08:15:07.830374Z",
     "iopub.status.busy": "2022-04-17T08:15:07.816005Z",
     "iopub.status.idle": "2022-04-17T08:15:08.214927Z",
     "shell.execute_reply": "2022-04-17T08:15:08.214370Z",
     "shell.execute_reply.started": "2022-04-17T08:11:24.452637Z"
    },
    "papermill": {
     "duration": 0.457864,
     "end_time": "2022-04-17T08:15:08.215058",
     "exception": false,
     "start_time": "2022-04-17T08:15:07.757194",
     "status": "completed"
    },
    "tags": []
   },
   "outputs": [
    {
     "data": {
      "image/png": "[encoded data removed]",
      "text/plain": [
       "<Figure size 360x360 with 1 Axes>"
      ]
     },
     "metadata": {},
     "output_type": "display_data"
    }
   ],
   "source": [
    "sns.catplot(x=\"Frequency\", y=\"Revenue\", kind=\"bar\", data=df_customer);"
   ]
  },
  {
   "cell_type": "code",
   "execution_count": 35,
   "id": "cd5a93a7",
   "metadata": {
    "execution": {
     "iopub.execute_input": "2022-04-17T08:15:08.323618Z",
     "iopub.status.busy": "2022-04-17T08:15:08.322992Z",
     "iopub.status.idle": "2022-04-17T08:15:08.325582Z",
     "shell.execute_reply": "2022-04-17T08:15:08.326010Z",
     "shell.execute_reply.started": "2022-04-17T08:11:25.021238Z"
    },
    "papermill": {
     "duration": 0.058845,
     "end_time": "2022-04-17T08:15:08.326176",
     "exception": false,
     "start_time": "2022-04-17T08:15:08.267331",
     "status": "completed"
    },
    "tags": []
   },
   "outputs": [],
   "source": [
    "#Therefore, high and medium frequency customers are having less significant contribution than the low frequency customers."
   ]
  },
  {
   "cell_type": "markdown",
   "id": "57151259",
   "metadata": {
    "papermill": {
     "duration": 0.051929,
     "end_time": "2022-04-17T08:15:08.430120",
     "exception": false,
     "start_time": "2022-04-17T08:15:08.378191",
     "status": "completed"
    },
    "tags": []
   },
   "source": [
    "**Let us check the profit distribution as per the segments of customers**"
   ]
  },
  {
   "cell_type": "code",
   "execution_count": 36,
   "id": "47fdf403",
   "metadata": {
    "execution": {
     "iopub.execute_input": "2022-04-17T08:15:08.539202Z",
     "iopub.status.busy": "2022-04-17T08:15:08.538600Z",
     "iopub.status.idle": "2022-04-17T08:15:08.540705Z",
     "shell.execute_reply": "2022-04-17T08:15:08.540141Z",
     "shell.execute_reply.started": "2022-04-17T08:11:27.247401Z"
    },
    "papermill": {
     "duration": 0.058721,
     "end_time": "2022-04-17T08:15:08.540844",
     "exception": false,
     "start_time": "2022-04-17T08:15:08.482123",
     "status": "completed"
    },
    "tags": []
   },
   "outputs": [],
   "source": [
    "profit_margin = df_customer.groupby('Frequency')"
   ]
  },
  {
   "cell_type": "code",
   "execution_count": 37,
   "id": "f2e40b51",
   "metadata": {
    "execution": {
     "iopub.execute_input": "2022-04-17T08:15:08.670426Z",
     "iopub.status.busy": "2022-04-17T08:15:08.669623Z",
     "iopub.status.idle": "2022-04-17T08:15:08.869860Z",
     "shell.execute_reply": "2022-04-17T08:15:08.870347Z",
     "shell.execute_reply.started": "2022-04-17T08:11:27.674783Z"
    },
    "papermill": {
     "duration": 0.276263,
     "end_time": "2022-04-17T08:15:08.870508",
     "exception": false,
     "start_time": "2022-04-17T08:15:08.594245",
     "status": "completed"
    },
    "tags": []
   },
   "outputs": [
    {
     "data": {
      "text/plain": [
       "<AxesSubplot:xlabel='Segment', ylabel='count'>"
      ]
     },
     "execution_count": 37,
     "metadata": {},
     "output_type": "execute_result"
    },
    {
     "data": {
      "image/png": "[encoded data removed]",
      "text/plain": [
       "<Figure size 432x288 with 1 Axes>"
      ]
     },
     "metadata": {},
     "output_type": "display_data"
    }
   ],
   "source": [
    "sns.countplot(x=\"Segment\",data = df)"
   ]
  },
  {
   "cell_type": "code",
   "execution_count": 38,
   "id": "b643b25a",
   "metadata": {
    "execution": {
     "iopub.execute_input": "2022-04-17T08:15:08.982717Z",
     "iopub.status.busy": "2022-04-17T08:15:08.982111Z",
     "iopub.status.idle": "2022-04-17T08:15:09.009579Z",
     "shell.execute_reply": "2022-04-17T08:15:09.010057Z",
     "shell.execute_reply.started": "2022-04-17T08:11:28.105364Z"
    },
    "papermill": {
     "duration": 0.085826,
     "end_time": "2022-04-17T08:15:09.010223",
     "exception": false,
     "start_time": "2022-04-17T08:15:08.924397",
     "status": "completed"
    },
    "tags": []
   },
   "outputs": [
    {
     "data": {
      "text/html": [
       "<div>\n",
       "<style scoped>\n",
       "    .dataframe tbody tr th:only-of-type {\n",
       "        vertical-align: middle;\n",
       "    }\n",
       "\n",
       "    .dataframe tbody tr th {\n",
       "        vertical-align: top;\n",
       "    }\n",
       "\n",
       "    .dataframe thead th {\n",
       "        text-align: right;\n",
       "    }\n",
       "</style>\n",
       "<table border=\"1\" class=\"dataframe\">\n",
       "  <thead>\n",
       "    <tr style=\"text-align: right;\">\n",
       "      <th></th>\n",
       "      <th>Row ID</th>\n",
       "      <th>Order ID</th>\n",
       "      <th>Order Date</th>\n",
       "      <th>Ship Date</th>\n",
       "      <th>Ship Mode</th>\n",
       "      <th>Customer ID</th>\n",
       "      <th>Customer Name</th>\n",
       "      <th>Segment</th>\n",
       "      <th>City</th>\n",
       "      <th>State</th>\n",
       "      <th>Country</th>\n",
       "      <th>Postal Code</th>\n",
       "      <th>Market</th>\n",
       "      <th>Region</th>\n",
       "      <th>Product ID</th>\n",
       "      <th>Category</th>\n",
       "      <th>Sub-Category</th>\n",
       "      <th>Product Name</th>\n",
       "      <th>Sales</th>\n",
       "      <th>Quantity</th>\n",
       "      <th>Discount</th>\n",
       "      <th>Profit</th>\n",
       "      <th>Shipping Cost</th>\n",
       "      <th>Order Priority</th>\n",
       "      <th>year</th>\n",
       "    </tr>\n",
       "  </thead>\n",
       "  <tbody>\n",
       "    <tr>\n",
       "      <th>0</th>\n",
       "      <td>32298</td>\n",
       "      <td>CA-2012-124891</td>\n",
       "      <td>2012-07-31</td>\n",
       "      <td>2012-07-31</td>\n",
       "      <td>Same Day</td>\n",
       "      <td>RH-19495</td>\n",
       "      <td>Rick Hansen</td>\n",
       "      <td>Consumer</td>\n",
       "      <td>New York City</td>\n",
       "      <td>New York</td>\n",
       "      <td>United States</td>\n",
       "      <td>10024.0</td>\n",
       "      <td>US</td>\n",
       "      <td>East</td>\n",
       "      <td>TEC-AC-10003033</td>\n",
       "      <td>Technology</td>\n",
       "      <td>Accessories</td>\n",
       "      <td>Plantronics CS510 - Over-the-Head monaural Wireless Headset System</td>\n",
       "      <td>2309.650</td>\n",
       "      <td>7</td>\n",
       "      <td>0.0</td>\n",
       "      <td>762.1845</td>\n",
       "      <td>933.57</td>\n",
       "      <td>Critical</td>\n",
       "      <td>2012</td>\n",
       "    </tr>\n",
       "    <tr>\n",
       "      <th>1</th>\n",
       "      <td>26341</td>\n",
       "      <td>IN-2013-77878</td>\n",
       "      <td>2013-05-02</td>\n",
       "      <td>2013-07-02</td>\n",
       "      <td>Second Class</td>\n",
       "      <td>JR-16210</td>\n",
       "      <td>Justin Ritter</td>\n",
       "      <td>Corporate</td>\n",
       "      <td>Wollongong</td>\n",
       "      <td>New South Wales</td>\n",
       "      <td>Australia</td>\n",
       "      <td>NaN</td>\n",
       "      <td>APAC</td>\n",
       "      <td>Oceania</td>\n",
       "      <td>FUR-CH-10003950</td>\n",
       "      <td>Furniture</td>\n",
       "      <td>Chairs</td>\n",
       "      <td>Novimex Executive Leather Armchair, Black</td>\n",
       "      <td>3709.395</td>\n",
       "      <td>9</td>\n",
       "      <td>0.1</td>\n",
       "      <td>-288.7650</td>\n",
       "      <td>923.63</td>\n",
       "      <td>Critical</td>\n",
       "      <td>2013</td>\n",
       "    </tr>\n",
       "    <tr>\n",
       "      <th>2</th>\n",
       "      <td>25330</td>\n",
       "      <td>IN-2013-71249</td>\n",
       "      <td>2013-10-17</td>\n",
       "      <td>2013-10-18</td>\n",
       "      <td>First Class</td>\n",
       "      <td>CR-12730</td>\n",
       "      <td>Craig Reiter</td>\n",
       "      <td>Consumer</td>\n",
       "      <td>Brisbane</td>\n",
       "      <td>Queensland</td>\n",
       "      <td>Australia</td>\n",
       "      <td>NaN</td>\n",
       "      <td>APAC</td>\n",
       "      <td>Oceania</td>\n",
       "      <td>TEC-PH-10004664</td>\n",
       "      <td>Technology</td>\n",
       "      <td>Phones</td>\n",
       "      <td>Nokia Smart Phone, with Caller ID</td>\n",
       "      <td>5175.171</td>\n",
       "      <td>9</td>\n",
       "      <td>0.1</td>\n",
       "      <td>919.9710</td>\n",
       "      <td>915.49</td>\n",
       "      <td>Medium</td>\n",
       "      <td>2013</td>\n",
       "    </tr>\n",
       "    <tr>\n",
       "      <th>3</th>\n",
       "      <td>13524</td>\n",
       "      <td>ES-2013-1579342</td>\n",
       "      <td>2013-01-28</td>\n",
       "      <td>2013-01-30</td>\n",
       "      <td>First Class</td>\n",
       "      <td>KM-16375</td>\n",
       "      <td>Katherine Murray</td>\n",
       "      <td>Home Office</td>\n",
       "      <td>Berlin</td>\n",
       "      <td>Berlin</td>\n",
       "      <td>Germany</td>\n",
       "      <td>NaN</td>\n",
       "      <td>EU</td>\n",
       "      <td>Central</td>\n",
       "      <td>TEC-PH-10004583</td>\n",
       "      <td>Technology</td>\n",
       "      <td>Phones</td>\n",
       "      <td>Motorola Smart Phone, Cordless</td>\n",
       "      <td>2892.510</td>\n",
       "      <td>5</td>\n",
       "      <td>0.1</td>\n",
       "      <td>-96.5400</td>\n",
       "      <td>910.16</td>\n",
       "      <td>Medium</td>\n",
       "      <td>2013</td>\n",
       "    </tr>\n",
       "    <tr>\n",
       "      <th>4</th>\n",
       "      <td>47221</td>\n",
       "      <td>SG-2013-4320</td>\n",
       "      <td>2013-05-11</td>\n",
       "      <td>2013-06-11</td>\n",
       "      <td>Same Day</td>\n",
       "      <td>RH-9495</td>\n",
       "      <td>Rick Hansen</td>\n",
       "      <td>Consumer</td>\n",
       "      <td>Dakar</td>\n",
       "      <td>Dakar</td>\n",
       "      <td>Senegal</td>\n",
       "      <td>NaN</td>\n",
       "      <td>Africa</td>\n",
       "      <td>Africa</td>\n",
       "      <td>TEC-SHA-10000501</td>\n",
       "      <td>Technology</td>\n",
       "      <td>Copiers</td>\n",
       "      <td>Sharp Wireless Fax, High-Speed</td>\n",
       "      <td>2832.960</td>\n",
       "      <td>8</td>\n",
       "      <td>0.0</td>\n",
       "      <td>311.5200</td>\n",
       "      <td>903.04</td>\n",
       "      <td>Critical</td>\n",
       "      <td>2013</td>\n",
       "    </tr>\n",
       "  </tbody>\n",
       "</table>\n",
       "</div>"
      ],
      "text/plain": [
       "   Row ID         Order ID Order Date  Ship Date     Ship Mode Customer ID  \\\n",
       "0   32298   CA-2012-124891 2012-07-31 2012-07-31      Same Day    RH-19495   \n",
       "1   26341    IN-2013-77878 2013-05-02 2013-07-02  Second Class    JR-16210   \n",
       "2   25330    IN-2013-71249 2013-10-17 2013-10-18   First Class    CR-12730   \n",
       "3   13524  ES-2013-1579342 2013-01-28 2013-01-30   First Class    KM-16375   \n",
       "4   47221     SG-2013-4320 2013-05-11 2013-06-11      Same Day     RH-9495   \n",
       "\n",
       "      Customer Name      Segment           City            State  \\\n",
       "0       Rick Hansen     Consumer  New York City         New York   \n",
       "1     Justin Ritter    Corporate     Wollongong  New South Wales   \n",
       "2      Craig Reiter     Consumer       Brisbane       Queensland   \n",
       "3  Katherine Murray  Home Office         Berlin           Berlin   \n",
       "4       Rick Hansen     Consumer          Dakar            Dakar   \n",
       "\n",
       "         Country  Postal Code  Market   Region        Product ID    Category  \\\n",
       "0  United States      10024.0      US     East   TEC-AC-10003033  Technology   \n",
       "1      Australia          NaN    APAC  Oceania   FUR-CH-10003950   Furniture   \n",
       "2      Australia          NaN    APAC  Oceania   TEC-PH-10004664  Technology   \n",
       "3        Germany          NaN      EU  Central   TEC-PH-10004583  Technology   \n",
       "4        Senegal          NaN  Africa   Africa  TEC-SHA-10000501  Technology   \n",
       "\n",
       "  Sub-Category  \\\n",
       "0  Accessories   \n",
       "1       Chairs   \n",
       "2       Phones   \n",
       "3       Phones   \n",
       "4      Copiers   \n",
       "\n",
       "                                                         Product Name  \\\n",
       "0  Plantronics CS510 - Over-the-Head monaural Wireless Headset System   \n",
       "1                           Novimex Executive Leather Armchair, Black   \n",
       "2                                   Nokia Smart Phone, with Caller ID   \n",
       "3                                      Motorola Smart Phone, Cordless   \n",
       "4                                      Sharp Wireless Fax, High-Speed   \n",
       "\n",
       "      Sales  Quantity  Discount    Profit  Shipping Cost Order Priority  year  \n",
       "0  2309.650         7       0.0  762.1845         933.57       Critical  2012  \n",
       "1  3709.395         9       0.1 -288.7650         923.63       Critical  2013  \n",
       "2  5175.171         9       0.1  919.9710         915.49         Medium  2013  \n",
       "3  2892.510         5       0.1  -96.5400         910.16         Medium  2013  \n",
       "4  2832.960         8       0.0  311.5200         903.04       Critical  2013  "
      ]
     },
     "execution_count": 38,
     "metadata": {},
     "output_type": "execute_result"
    }
   ],
   "source": [
    "#Significantly higher footfall has been witnessed in consumer segment as compared to the corporate and home segment. \n",
    "#Let's try and analyze the consumer-wise footfall on an year-wise basis\n",
    "\n",
    "\n",
    "df_x = df\n",
    "df_x['year'] = pd.DatetimeIndex(df['Order Date']).year\n",
    "df_x.head()"
   ]
  },
  {
   "cell_type": "code",
   "execution_count": 39,
   "id": "61530df5",
   "metadata": {
    "execution": {
     "iopub.execute_input": "2022-04-17T08:15:09.121945Z",
     "iopub.status.busy": "2022-04-17T08:15:09.121341Z",
     "iopub.status.idle": "2022-04-17T08:15:10.406989Z",
     "shell.execute_reply": "2022-04-17T08:15:10.406396Z",
     "shell.execute_reply.started": "2022-04-17T08:11:28.801295Z"
    },
    "papermill": {
     "duration": 1.342204,
     "end_time": "2022-04-17T08:15:10.407127",
     "exception": false,
     "start_time": "2022-04-17T08:15:09.064923",
     "status": "completed"
    },
    "tags": []
   },
   "outputs": [
    {
     "data": {
      "text/plain": [
       "<Figure size 1728x1080 with 0 Axes>"
      ]
     },
     "metadata": {},
     "output_type": "display_data"
    },
    {
     "data": {
      "image/png": "[encoded data removed]",
      "text/plain": [
       "<Figure size 1440x360 with 4 Axes>"
      ]
     },
     "metadata": {},
     "output_type": "display_data"
    }
   ],
   "source": [
    "plt.figure(figsize=(24,15))\n",
    "sns.catplot(x=\"Segment\", col=\"year\", data=df_x, kind=\"count\")\n",
    "plt.show()"
   ]
  },
  {
   "cell_type": "code",
   "execution_count": 40,
   "id": "15e4cff1",
   "metadata": {
    "execution": {
     "iopub.execute_input": "2022-04-17T08:15:10.521538Z",
     "iopub.status.busy": "2022-04-17T08:15:10.520977Z",
     "iopub.status.idle": "2022-04-17T08:15:10.523927Z",
     "shell.execute_reply": "2022-04-17T08:15:10.523395Z",
     "shell.execute_reply.started": "2022-04-17T08:11:30.418828Z"
    },
    "papermill": {
     "duration": 0.061532,
     "end_time": "2022-04-17T08:15:10.524052",
     "exception": false,
     "start_time": "2022-04-17T08:15:10.462520",
     "status": "completed"
    },
    "tags": []
   },
   "outputs": [],
   "source": [
    "#Its is clear that all the three segments are witnessing a linear growth in footfall across the years. \n",
    "#However, from 2011 to 2014, Consumers segment has been leading in terms of footfall. "
   ]
  },
  {
   "cell_type": "markdown",
   "id": "80283da4",
   "metadata": {
    "papermill": {
     "duration": 0.054527,
     "end_time": "2022-04-17T08:15:10.633420",
     "exception": false,
     "start_time": "2022-04-17T08:15:10.578893",
     "status": "completed"
    },
    "tags": []
   },
   "source": [
    "**Let us have a look at the country-wise distribution of customers**"
   ]
  },
  {
   "cell_type": "code",
   "execution_count": 41,
   "id": "ea1235aa",
   "metadata": {
    "execution": {
     "iopub.execute_input": "2022-04-17T08:15:10.745477Z",
     "iopub.status.busy": "2022-04-17T08:15:10.744862Z",
     "iopub.status.idle": "2022-04-17T08:15:10.756226Z",
     "shell.execute_reply": "2022-04-17T08:15:10.755723Z",
     "shell.execute_reply.started": "2022-04-17T08:11:33.555450Z"
    },
    "papermill": {
     "duration": 0.068475,
     "end_time": "2022-04-17T08:15:10.756378",
     "exception": false,
     "start_time": "2022-04-17T08:15:10.687903",
     "status": "completed"
    },
    "tags": []
   },
   "outputs": [],
   "source": [
    "customer_country = pd.DataFrame({'Count' : df.groupby([\"Country\"]).size()}).reset_index().sort_values('Count',ascending = False).head(10)"
   ]
  },
  {
   "cell_type": "code",
   "execution_count": 42,
   "id": "e63f840f",
   "metadata": {
    "execution": {
     "iopub.execute_input": "2022-04-17T08:15:10.872122Z",
     "iopub.status.busy": "2022-04-17T08:15:10.871541Z",
     "iopub.status.idle": "2022-04-17T08:15:10.876958Z",
     "shell.execute_reply": "2022-04-17T08:15:10.877475Z",
     "shell.execute_reply.started": "2022-04-17T08:11:34.014751Z"
    },
    "papermill": {
     "duration": 0.066201,
     "end_time": "2022-04-17T08:15:10.877630",
     "exception": false,
     "start_time": "2022-04-17T08:15:10.811429",
     "status": "completed"
    },
    "tags": []
   },
   "outputs": [
    {
     "data": {
      "text/html": [
       "<div>\n",
       "<style scoped>\n",
       "    .dataframe tbody tr th:only-of-type {\n",
       "        vertical-align: middle;\n",
       "    }\n",
       "\n",
       "    .dataframe tbody tr th {\n",
       "        vertical-align: top;\n",
       "    }\n",
       "\n",
       "    .dataframe thead th {\n",
       "        text-align: right;\n",
       "    }\n",
       "</style>\n",
       "<table border=\"1\" class=\"dataframe\">\n",
       "  <thead>\n",
       "    <tr style=\"text-align: right;\">\n",
       "      <th></th>\n",
       "      <th>Country</th>\n",
       "      <th>Count</th>\n",
       "    </tr>\n",
       "  </thead>\n",
       "  <tbody>\n",
       "    <tr>\n",
       "      <th>139</th>\n",
       "      <td>United States</td>\n",
       "      <td>9994</td>\n",
       "    </tr>\n",
       "    <tr>\n",
       "      <th>6</th>\n",
       "      <td>Australia</td>\n",
       "      <td>2837</td>\n",
       "    </tr>\n",
       "    <tr>\n",
       "      <th>44</th>\n",
       "      <td>France</td>\n",
       "      <td>2827</td>\n",
       "    </tr>\n",
       "    <tr>\n",
       "      <th>81</th>\n",
       "      <td>Mexico</td>\n",
       "      <td>2644</td>\n",
       "    </tr>\n",
       "    <tr>\n",
       "      <th>47</th>\n",
       "      <td>Germany</td>\n",
       "      <td>2065</td>\n",
       "    </tr>\n",
       "    <tr>\n",
       "      <th>26</th>\n",
       "      <td>China</td>\n",
       "      <td>1880</td>\n",
       "    </tr>\n",
       "    <tr>\n",
       "      <th>138</th>\n",
       "      <td>United Kingdom</td>\n",
       "      <td>1633</td>\n",
       "    </tr>\n",
       "    <tr>\n",
       "      <th>17</th>\n",
       "      <td>Brazil</td>\n",
       "      <td>1599</td>\n",
       "    </tr>\n",
       "    <tr>\n",
       "      <th>57</th>\n",
       "      <td>India</td>\n",
       "      <td>1555</td>\n",
       "    </tr>\n",
       "    <tr>\n",
       "      <th>58</th>\n",
       "      <td>Indonesia</td>\n",
       "      <td>1390</td>\n",
       "    </tr>\n",
       "  </tbody>\n",
       "</table>\n",
       "</div>"
      ],
      "text/plain": [
       "            Country  Count\n",
       "139   United States   9994\n",
       "6         Australia   2837\n",
       "44           France   2827\n",
       "81           Mexico   2644\n",
       "47          Germany   2065\n",
       "26            China   1880\n",
       "138  United Kingdom   1633\n",
       "17           Brazil   1599\n",
       "57            India   1555\n",
       "58        Indonesia   1390"
      ]
     },
     "execution_count": 42,
     "metadata": {},
     "output_type": "execute_result"
    }
   ],
   "source": [
    "customer_country\n"
   ]
  },
  {
   "cell_type": "code",
   "execution_count": 43,
   "id": "82f3d462",
   "metadata": {
    "execution": {
     "iopub.execute_input": "2022-04-17T08:15:10.992278Z",
     "iopub.status.busy": "2022-04-17T08:15:10.991619Z",
     "iopub.status.idle": "2022-04-17T08:15:11.167760Z",
     "shell.execute_reply": "2022-04-17T08:15:11.168601Z",
     "shell.execute_reply.started": "2022-04-17T08:11:34.535474Z"
    },
    "papermill": {
     "duration": 0.23593,
     "end_time": "2022-04-17T08:15:11.168871",
     "exception": false,
     "start_time": "2022-04-17T08:15:10.932941",
     "status": "completed"
    },
    "tags": []
   },
   "outputs": [
    {
     "data": {
      "image/png": "[encoded data removed]",
      "text/plain": [
       "<Figure size 432x288 with 1 Axes>"
      ]
     },
     "metadata": {},
     "output_type": "display_data"
    }
   ],
   "source": [
    "#The data belongs to a total of 10 countries\n",
    "# Let us visualize in form of a pie chart to analyze th epercentage distribution of customers along several countries\n",
    "from matplotlib import pyplot as plt\n",
    "import numpy as np\n",
    "fig = plt.figure()\n",
    "ax = fig.add_axes([0,0,1,1])\n",
    "ax.axis('equal')\n",
    "Countries = customer_country['Country']\n",
    "cust_count = customer_country['Count']\n",
    "ax.pie(cust_count, labels = Countries,autopct='%1.2f%%')\n",
    "plt.show()"
   ]
  },
  {
   "cell_type": "code",
   "execution_count": 44,
   "id": "0a6ed774",
   "metadata": {
    "execution": {
     "iopub.execute_input": "2022-04-17T08:15:11.313226Z",
     "iopub.status.busy": "2022-04-17T08:15:11.312638Z",
     "iopub.status.idle": "2022-04-17T08:15:11.314536Z",
     "shell.execute_reply": "2022-04-17T08:15:11.314003Z",
     "shell.execute_reply.started": "2022-04-17T08:11:35.221065Z"
    },
    "papermill": {
     "duration": 0.066339,
     "end_time": "2022-04-17T08:15:11.314663",
     "exception": false,
     "start_time": "2022-04-17T08:15:11.248324",
     "status": "completed"
    },
    "tags": []
   },
   "outputs": [],
   "source": [
    "#United states is leading the race by contributing to approximately 1/3rd of the total customers in the superstore. \n",
    "#Highest chunk of customers comes from North and South America. Second highest amount of customers are Asian, whereas the rest\n",
    "#are of European origin. \n"
   ]
  },
  {
   "cell_type": "markdown",
   "id": "a715071b",
   "metadata": {
    "papermill": {
     "duration": 0.056289,
     "end_time": "2022-04-17T08:15:11.427964",
     "exception": false,
     "start_time": "2022-04-17T08:15:11.371675",
     "status": "completed"
    },
    "tags": []
   },
   "source": [
    "**Let us now analyze the country-wise sales of superstore**"
   ]
  },
  {
   "cell_type": "code",
   "execution_count": 45,
   "id": "50608cac",
   "metadata": {
    "execution": {
     "iopub.execute_input": "2022-04-17T08:15:11.549024Z",
     "iopub.status.busy": "2022-04-17T08:15:11.548455Z",
     "iopub.status.idle": "2022-04-17T08:15:13.569774Z",
     "shell.execute_reply": "2022-04-17T08:15:13.570207Z",
     "shell.execute_reply.started": "2022-04-17T08:11:40.756885Z"
    },
    "papermill": {
     "duration": 2.085733,
     "end_time": "2022-04-17T08:15:13.570406",
     "exception": false,
     "start_time": "2022-04-17T08:15:11.484673",
     "status": "completed"
    },
    "tags": []
   },
   "outputs": [
    {
     "data": {
      "text/plain": [
       "Text(0.5, 0, 'Countries')"
      ]
     },
     "execution_count": 45,
     "metadata": {},
     "output_type": "execute_result"
    },
    {
     "data": {
      "image/png": "[encoded data removed]",
      "text/plain": [
       "<Figure size 1152x576 with 1 Axes>"
      ]
     },
     "metadata": {},
     "output_type": "display_data"
    }
   ],
   "source": [
    "plt.figure(figsize=(16,8))\n",
    "countries = df.groupby('Country')['Sales'].count().sort_values(ascending=False)\n",
    "countries = countries [:60]\n",
    "countries.plot(kind='bar', color='orange')\n",
    "plt.title('Top 60 Countries in Sales')\n",
    "plt.ylabel('Sales')\n",
    "plt.xlabel('Countries')"
   ]
  },
  {
   "cell_type": "code",
   "execution_count": 46,
   "id": "6eb7fe83",
   "metadata": {
    "execution": {
     "iopub.execute_input": "2022-04-17T08:15:13.692995Z",
     "iopub.status.busy": "2022-04-17T08:15:13.692395Z",
     "iopub.status.idle": "2022-04-17T08:15:13.693783Z",
     "shell.execute_reply": "2022-04-17T08:15:13.694159Z",
     "shell.execute_reply.started": "2022-04-17T08:11:43.005307Z"
    },
    "papermill": {
     "duration": 0.065064,
     "end_time": "2022-04-17T08:15:13.694349",
     "exception": false,
     "start_time": "2022-04-17T08:15:13.629285",
     "status": "completed"
    },
    "tags": []
   },
   "outputs": [],
   "source": [
    "#Sales of the top 10 countries comprises about 40-50% of the total sales. \n",
    "#United States clearly leads this race with its sale being approximately 4 times more than its closest competitor. \n"
   ]
  },
  {
   "cell_type": "markdown",
   "id": "a29f782e",
   "metadata": {
    "papermill": {
     "duration": 0.059471,
     "end_time": "2022-04-17T08:15:13.813131",
     "exception": false,
     "start_time": "2022-04-17T08:15:13.753660",
     "status": "completed"
    },
    "tags": []
   },
   "source": [
    "**Let us analyze the product-wise profits of the superstore**"
   ]
  },
  {
   "cell_type": "code",
   "execution_count": 47,
   "id": "b0cf0ac6",
   "metadata": {
    "execution": {
     "iopub.execute_input": "2022-04-17T08:15:13.935449Z",
     "iopub.status.busy": "2022-04-17T08:15:13.934843Z",
     "iopub.status.idle": "2022-04-17T08:15:13.950621Z",
     "shell.execute_reply": "2022-04-17T08:15:13.951049Z",
     "shell.execute_reply.started": "2022-04-17T08:11:43.677082Z"
    },
    "papermill": {
     "duration": 0.078237,
     "end_time": "2022-04-17T08:15:13.951206",
     "exception": false,
     "start_time": "2022-04-17T08:15:13.872969",
     "status": "completed"
    },
    "tags": []
   },
   "outputs": [
    {
     "data": {
      "text/plain": [
       "Product Name\n",
       "Staples                           227\n",
       "Cardinal Index Tab, Clear          92\n",
       "Eldon File Cart, Single Width      90\n",
       "Rogers File Cart, Single Width     84\n",
       "Ibico Index Tab, Clear             83\n",
       "Name: Profit, dtype: int64"
      ]
     },
     "execution_count": 47,
     "metadata": {},
     "output_type": "execute_result"
    }
   ],
   "source": [
    "products = df.groupby('Product Name')['Profit'].count().sort_values(ascending=False)\n",
    "\n",
    "products.head()"
   ]
  },
  {
   "cell_type": "code",
   "execution_count": 48,
   "id": "fef42d20",
   "metadata": {
    "execution": {
     "iopub.execute_input": "2022-04-17T08:15:14.074923Z",
     "iopub.status.busy": "2022-04-17T08:15:14.074331Z",
     "iopub.status.idle": "2022-04-17T08:15:14.076712Z",
     "shell.execute_reply": "2022-04-17T08:15:14.077098Z",
     "shell.execute_reply.started": "2022-04-17T08:11:44.106073Z"
    },
    "papermill": {
     "duration": 0.066602,
     "end_time": "2022-04-17T08:15:14.077274",
     "exception": false,
     "start_time": "2022-04-17T08:15:14.010672",
     "status": "completed"
    },
    "tags": []
   },
   "outputs": [],
   "source": [
    "#Staples contribute to about 40% of the total profit coming from the top 5 products. \n",
    "#Document arranging solutions like File carts (Eldon and Rodgers) and Index Tabs are the top 3 out of 5 top-most profitable product."
   ]
  },
  {
   "cell_type": "markdown",
   "id": "76bda599",
   "metadata": {
    "papermill": {
     "duration": 0.058921,
     "end_time": "2022-04-17T08:15:14.196340",
     "exception": false,
     "start_time": "2022-04-17T08:15:14.137419",
     "status": "completed"
    },
    "tags": []
   },
   "source": [
    "**Let us analyze the time it takes to deliver the products to different countries**"
   ]
  },
  {
   "cell_type": "code",
   "execution_count": 49,
   "id": "298ea54d",
   "metadata": {
    "execution": {
     "iopub.execute_input": "2022-04-17T08:15:14.318412Z",
     "iopub.status.busy": "2022-04-17T08:15:14.317833Z",
     "iopub.status.idle": "2022-04-17T08:15:14.433692Z",
     "shell.execute_reply": "2022-04-17T08:15:14.433120Z",
     "shell.execute_reply.started": "2022-04-17T08:11:45.256131Z"
    },
    "papermill": {
     "duration": 0.178033,
     "end_time": "2022-04-17T08:15:14.433831",
     "exception": false,
     "start_time": "2022-04-17T08:15:14.255798",
     "status": "completed"
    },
    "tags": []
   },
   "outputs": [],
   "source": [
    "df_x = df.drop_duplicates()\n",
    "\n",
    "df_x['Order_to_Ship_Days'] = (pd.to_datetime(df_x['Ship Date']) \n",
    "                                           - pd.to_datetime(df_x['Order Date'])).dt.days"
   ]
  },
  {
   "cell_type": "code",
   "execution_count": 50,
   "id": "74a9dcfc",
   "metadata": {
    "execution": {
     "iopub.execute_input": "2022-04-17T08:15:14.557223Z",
     "iopub.status.busy": "2022-04-17T08:15:14.556645Z",
     "iopub.status.idle": "2022-04-17T08:15:16.574021Z",
     "shell.execute_reply": "2022-04-17T08:15:16.574491Z",
     "shell.execute_reply.started": "2022-04-17T08:11:46.691415Z"
    },
    "papermill": {
     "duration": 2.080587,
     "end_time": "2022-04-17T08:15:16.574660",
     "exception": false,
     "start_time": "2022-04-17T08:15:14.494073",
     "status": "completed"
    },
    "tags": []
   },
   "outputs": [
    {
     "data": {
      "text/plain": [
       "Text(0.5, 0, 'Countries')"
      ]
     },
     "execution_count": 50,
     "metadata": {},
     "output_type": "execute_result"
    },
    {
     "data": {
      "image/png": "[encoded data removed]",
      "text/plain": [
       "<Figure size 1152x576 with 1 Axes>"
      ]
     },
     "metadata": {},
     "output_type": "display_data"
    }
   ],
   "source": [
    "plt.figure(figsize=(16,8))\n",
    "countries = df_x.groupby('Country')['Order_to_Ship_Days'].mean().sort_values(ascending=False)\n",
    "countries = countries [:60]\n",
    "countries.plot(kind='bar', color='red')\n",
    "plt.title('Top 60 Countries in Sales')\n",
    "plt.ylabel('Average shipment time')\n",
    "plt.xlabel('Countries')"
   ]
  },
  {
   "cell_type": "code",
   "execution_count": 51,
   "id": "6db642c5",
   "metadata": {
    "execution": {
     "iopub.execute_input": "2022-04-17T08:15:16.703397Z",
     "iopub.status.busy": "2022-04-17T08:15:16.702744Z",
     "iopub.status.idle": "2022-04-17T08:15:16.705535Z",
     "shell.execute_reply": "2022-04-17T08:15:16.706037Z",
     "shell.execute_reply.started": "2022-04-17T08:08:45.300650Z"
    },
    "papermill": {
     "duration": 0.068826,
     "end_time": "2022-04-17T08:15:16.706198",
     "exception": false,
     "start_time": "2022-04-17T08:15:16.637372",
     "status": "completed"
    },
    "tags": []
   },
   "outputs": [],
   "source": [
    "#On an average, middle eastern and African countries are having a shipment duration of 50-60 days."
   ]
  }
 ],
 "metadata": {
  "kernelspec": {
   "display_name": "Python 3",
   "language": "python",
   "name": "python3"
  },
  "language_info": {
   "codemirror_mode": {
    "name": "ipython",
    "version": 3
   },
   "file_extension": ".py",
   "mimetype": "text/x-python",
   "name": "python",
   "nbconvert_exporter": "python",
   "pygments_lexer": "ipython3",
   "version": "3.7.12"
  },
  "papermill": {
   "default_parameters": {},
   "duration": 30.177591,
   "end_time": "2022-04-17T08:15:17.478242",
   "environment_variables": {},
   "exception": null,
   "input_path": "__notebook__.ipynb",
   "output_path": "__notebook__.ipynb",
   "parameters": {},
   "start_time": "2022-04-17T08:14:47.300651",
   "version": "2.3.3"
  }
 },
 "nbformat": 4,
 "nbformat_minor": 5
}
